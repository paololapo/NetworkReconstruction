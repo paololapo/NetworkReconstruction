{
  "nbformat": 4,
  "nbformat_minor": 0,
  "metadata": {
    "colab": {
      "provenance": [],
      "gpuType": "T4"
    },
    "kernelspec": {
      "name": "python3",
      "display_name": "Python 3"
    },
    "language_info": {
      "name": "python"
    },
    "accelerator": "GPU"
  },
  "cells": [
    {
      "cell_type": "code",
      "source": [
        "pip install torch_geometric"
      ],
      "metadata": {
        "colab": {
          "base_uri": "https://localhost:8080/"
        },
        "id": "Uz3iwZVDlEhu",
        "outputId": "6ca354d6-4d5c-44e4-919c-314b4a4bc1ae"
      },
      "execution_count": 3,
      "outputs": [
        {
          "output_type": "stream",
          "name": "stdout",
          "text": [
            "Requirement already satisfied: torch_geometric in /usr/local/lib/python3.10/dist-packages (2.6.1)\n",
            "Requirement already satisfied: aiohttp in /usr/local/lib/python3.10/dist-packages (from torch_geometric) (3.10.5)\n",
            "Requirement already satisfied: fsspec in /usr/local/lib/python3.10/dist-packages (from torch_geometric) (2024.6.1)\n",
            "Requirement already satisfied: jinja2 in /usr/local/lib/python3.10/dist-packages (from torch_geometric) (3.1.4)\n",
            "Requirement already satisfied: numpy in /usr/local/lib/python3.10/dist-packages (from torch_geometric) (1.26.4)\n",
            "Requirement already satisfied: psutil>=5.8.0 in /usr/local/lib/python3.10/dist-packages (from torch_geometric) (5.9.5)\n",
            "Requirement already satisfied: pyparsing in /usr/local/lib/python3.10/dist-packages (from torch_geometric) (3.1.4)\n",
            "Requirement already satisfied: requests in /usr/local/lib/python3.10/dist-packages (from torch_geometric) (2.32.3)\n",
            "Requirement already satisfied: tqdm in /usr/local/lib/python3.10/dist-packages (from torch_geometric) (4.66.5)\n",
            "Requirement already satisfied: aiohappyeyeballs>=2.3.0 in /usr/local/lib/python3.10/dist-packages (from aiohttp->torch_geometric) (2.4.0)\n",
            "Requirement already satisfied: aiosignal>=1.1.2 in /usr/local/lib/python3.10/dist-packages (from aiohttp->torch_geometric) (1.3.1)\n",
            "Requirement already satisfied: attrs>=17.3.0 in /usr/local/lib/python3.10/dist-packages (from aiohttp->torch_geometric) (24.2.0)\n",
            "Requirement already satisfied: frozenlist>=1.1.1 in /usr/local/lib/python3.10/dist-packages (from aiohttp->torch_geometric) (1.4.1)\n",
            "Requirement already satisfied: multidict<7.0,>=4.5 in /usr/local/lib/python3.10/dist-packages (from aiohttp->torch_geometric) (6.1.0)\n",
            "Requirement already satisfied: yarl<2.0,>=1.0 in /usr/local/lib/python3.10/dist-packages (from aiohttp->torch_geometric) (1.11.1)\n",
            "Requirement already satisfied: async-timeout<5.0,>=4.0 in /usr/local/lib/python3.10/dist-packages (from aiohttp->torch_geometric) (4.0.3)\n",
            "Requirement already satisfied: MarkupSafe>=2.0 in /usr/local/lib/python3.10/dist-packages (from jinja2->torch_geometric) (2.1.5)\n",
            "Requirement already satisfied: charset-normalizer<4,>=2 in /usr/local/lib/python3.10/dist-packages (from requests->torch_geometric) (3.3.2)\n",
            "Requirement already satisfied: idna<4,>=2.5 in /usr/local/lib/python3.10/dist-packages (from requests->torch_geometric) (3.10)\n",
            "Requirement already satisfied: urllib3<3,>=1.21.1 in /usr/local/lib/python3.10/dist-packages (from requests->torch_geometric) (2.2.3)\n",
            "Requirement already satisfied: certifi>=2017.4.17 in /usr/local/lib/python3.10/dist-packages (from requests->torch_geometric) (2024.8.30)\n",
            "Requirement already satisfied: typing-extensions>=4.1.0 in /usr/local/lib/python3.10/dist-packages (from multidict<7.0,>=4.5->aiohttp->torch_geometric) (4.12.2)\n"
          ]
        }
      ]
    },
    {
      "cell_type": "code",
      "execution_count": 4,
      "metadata": {
        "id": "nwJRFfMKjU63"
      },
      "outputs": [],
      "source": [
        "import os.path as osp\n",
        "\n",
        "import torch\n",
        "import numpy as np\n",
        "import random\n",
        "import itertools\n",
        "import networkx as nx\n",
        "from tqdm import tqdm\n",
        "from sklearn.metrics import roc_auc_score\n",
        "from sklearn.preprocessing import StandardScaler\n",
        "\n",
        "import torch_geometric.transforms as T\n",
        "from torch_geometric.data import Dataset, Data\n",
        "from torch_geometric.datasets import Planetoid\n",
        "from torch_geometric.nn import GCNConv\n",
        "from torch_geometric.utils import negative_sampling\n",
        "\n",
        "from torch_geometric.data import Dataset, Data\n",
        "\n",
        "import matplotlib.pyplot as plt"
      ]
    },
    {
      "cell_type": "code",
      "source": [
        "if torch.cuda.is_available():\n",
        "    device = torch.device('cuda')\n",
        "elif hasattr(torch.backends, 'mps') and torch.backends.mps.is_available():\n",
        "    device = torch.device('mps')\n",
        "else:\n",
        "    device = torch.device('cpu')\n",
        "\n",
        "print(f\"Using device: {device}\")"
      ],
      "metadata": {
        "colab": {
          "base_uri": "https://localhost:8080/"
        },
        "id": "PUQ6f8HTsN6_",
        "outputId": "ff3351cc-6c56-4250-d123-d73615658ad4"
      },
      "execution_count": 5,
      "outputs": [
        {
          "output_type": "stream",
          "name": "stdout",
          "text": [
            "Using device: cuda\n"
          ]
        }
      ]
    },
    {
      "cell_type": "markdown",
      "source": [
        "## Functions"
      ],
      "metadata": {
        "id": "gXbklH65Kbzl"
      }
    },
    {
      "cell_type": "code",
      "source": [
        "def graphToEdgelist(g):\n",
        "    \"\"\"\n",
        "    Returns the edge list of a networkx graph.\n",
        "    Note that if the graph is undirected, the first node in the edge list has always the smaller index.\n",
        "    g: networkx graph\n",
        "    \"\"\"\n",
        "    edges = list(g.edges())\n",
        "\n",
        "    # From edge list to a PyTorch tensor\n",
        "    edge_index = torch.tensor(list(zip(*edges)), dtype=torch.long)\n",
        "\n",
        "    return edge_index\n",
        "\n",
        "\n",
        "def graphToNonEdgelist(g):\n",
        "    \"\"\"\n",
        "    Returns the non-edge list of a networkx graph.\n",
        "    g: networkx graph\n",
        "    \"\"\"\n",
        "    not_edges = list(nx.non_edges(g))\n",
        "\n",
        "    # From edge list to a PyTorch tensor\n",
        "    not_edge_index = torch.tensor(list(zip(*not_edges)), dtype=torch.long)\n",
        "\n",
        "    return not_edge_index\n",
        "\n",
        "\n",
        "def graphToEdgeLabel(g, k):\n",
        "    \"\"\"\n",
        "    Returns k edges and k not edges to be tested from a graph.\n",
        "    g: networkx graph\n",
        "    k: number of edges to be labeled\n",
        "    \"\"\"\n",
        "    # Get the edges and the not edges\n",
        "    edges = list(nx.edges(g))\n",
        "    not_edges = list(nx.non_edges(g))\n",
        "    assert len(edges) > k, \"k must be smaller than the number of edges\"\n",
        "\n",
        "    # Choose randomly k edges and k not edges\n",
        "    true_edges_index = np.random.choice(len(edges), size=k, replace=False)\n",
        "    true_not_edges_index = np.random.choice(len(not_edges), size=k, replace=False)\n",
        "\n",
        "    true_edges = [edges[i] for i in true_edges_index]\n",
        "    true_not_edges = [not_edges[i] for i in true_not_edges_index]\n",
        "\n",
        "    # Cast them to a torch tensor\n",
        "    true_edges_index = torch.tensor(list(zip(*true_edges)), dtype=torch.long)\n",
        "    true_not_edges_index = torch.tensor(list(zip(*true_not_edges)), dtype=torch.long)\n",
        "\n",
        "    # Merge the tensors\n",
        "    edge_label_index = torch.cat([true_edges_index, true_not_edges_index], dim=1)\n",
        "\n",
        "    # Create the labels\n",
        "    edge_label = torch.cat([torch.ones(k), torch.zeros(k)], dim=0)\n",
        "\n",
        "    # Shuffle the tensor\n",
        "    shuffle = torch.randperm(edge_label_index.size(1))\n",
        "    edge_label_index = edge_label_index[:, shuffle]\n",
        "    edge_label = edge_label[shuffle]\n",
        "\n",
        "    return edge_label_index, edge_label\n",
        "\n",
        "\n",
        "def sigmoid(z):\n",
        "    return 1/(1 + np.exp(-z))\n",
        "\n",
        "\n",
        "def getAllPairs(N):\n",
        "    \"\"\"\n",
        "    Returns all the pairs of nodes in a undirected graph.\n",
        "    N: number of nodes\n",
        "    \"\"\"\n",
        "    pairs = list(itertools.combinations(range(N), 2))\n",
        "    pairs_tensor = torch.tensor(pairs).t()\n",
        "\n",
        "    return pairs_tensor\n",
        "\n",
        "\n",
        "def edgelistToGraph(edge_list):\n",
        "    \"\"\"\n",
        "    Returns a networkx graph from an edge list.\n",
        "    edge_list: list of edges (tensor)\n",
        "    \"\"\"\n",
        "    edge_list = edge_list.t().tolist()\n",
        "    g = nx.Graph()\n",
        "    g.add_edges_from(edge_list)\n",
        "    return g"
      ],
      "metadata": {
        "id": "nBoADQGxsFTO"
      },
      "execution_count": 6,
      "outputs": []
    },
    {
      "cell_type": "code",
      "source": [
        "def corruptNetwork(g, f):\n",
        "  \"\"\"\n",
        "  Corrupts a network by adding/removing edges.\n",
        "  g: networkx graph\n",
        "  f: corruption probability\n",
        "  \"\"\"\n",
        "  g = g.copy()\n",
        "\n",
        "  # Get the list of edges and non_edges of g\n",
        "  edges = list(nx.edges(g))\n",
        "  not_edges = list(nx.non_edges(g))\n",
        "\n",
        "  # Number of edges to be added/removed\n",
        "  num_corrupted = np.floor(f * len(edges)).astype(int)\n",
        "\n",
        "  # Randomly remove edges\n",
        "  edges_to_remove = np.random.choice(len(edges), size=num_corrupted, replace=False)\n",
        "  for i in edges_to_remove:\n",
        "    g.remove_edge(*edges[i])\n",
        "\n",
        "  # Randomly add edges\n",
        "  edges_to_add = np.random.choice(len(not_edges), size=num_corrupted, replace=False)\n",
        "  for i in edges_to_add:\n",
        "    g.add_edge(*not_edges[i])\n",
        "\n",
        "  return g"
      ],
      "metadata": {
        "id": "uYs-05_uKGXU"
      },
      "execution_count": 7,
      "outputs": []
    },
    {
      "cell_type": "code",
      "source": [
        "def obtainFeatureMatrix(g, ZScore= False):\n",
        "  \"\"\"\n",
        "  Obtains the feature matrix of a network.\n",
        "  g: networkx graph\n",
        "  \"\"\"\n",
        "  functions = [\n",
        "      lambda g: [g.degree(n) for n in g.nodes()],\n",
        "      lambda g: list(nx.betweenness_centrality(g).values()),\n",
        "      lambda g: list(nx.closeness_centrality(g).values()),\n",
        "      lambda g: list(nx.eigenvector_centrality(g).values()),\n",
        "      lambda g: list(nx.katz_centrality_numpy(g).values()),\n",
        "      lambda g: list(nx.pagerank(g).values()),\n",
        "      lambda g: list(nx.load_centrality(g).values()),\n",
        "      lambda g: list(nx.harmonic_centrality(g).values()),\n",
        "      lambda g: list(nx.clustering(g).values())\n",
        "  ]\n",
        "\n",
        "  r = list(map(lambda f: f(g), functions))\n",
        "\n",
        "  if ZScore:\n",
        "      features = torch.tensor(r).T.numpy()\n",
        "\n",
        "      scaler = StandardScaler()\n",
        "      features = scaler.fit_transform(features)\n",
        "\n",
        "  else:\n",
        "      features = torch.tensor(r).T.numpy()\n",
        "\n",
        "  return torch.tensor(features)"
      ],
      "metadata": {
        "id": "n3YEX1wWSd_8"
      },
      "execution_count": 8,
      "outputs": []
    },
    {
      "cell_type": "code",
      "source": [
        "def compareGraphs(g, g_corrupted):\n",
        "    \"\"\"\n",
        "    Function to compute missing and spurious interactions\n",
        "    \"\"\"\n",
        "    # Get the list of edges and non_edges of g\n",
        "    edges = list(nx.edges(g))\n",
        "    not_edges = list(nx.non_edges(g))\n",
        "\n",
        "    # Get the list of edges and non_edges of g_corrupted\n",
        "    edges_corrupted = list(nx.edges(g_corrupted))\n",
        "    not_edges_corrupted = list(nx.non_edges(g_corrupted))\n",
        "\n",
        "    # Compute the missing and spurious interactions\n",
        "    missing_edges = list(set(edges) - set(edges_corrupted))\n",
        "    spurious_edges = list(set(edges_corrupted) - set(edges))\n",
        "\n",
        "    return len(missing_edges), len(spurious_edges)\n",
        "\n",
        "\n",
        "def compareEdgeLists(edge_list, edge_list_corrupted):\n",
        "    \"\"\"\n",
        "    Function to compute missing and spurious interactions between two edge lists.\n",
        "    \"\"\"\n",
        "    edges_set = set(tuple(edge.tolist()) for edge in edge_list.T)\n",
        "    edges_set_corrupted = set(tuple(edge.tolist()) for edge in edge_list_corrupted.T)\n",
        "\n",
        "    missing_edges = list(edges_set - edges_set_corrupted)\n",
        "    spurious_edges = list(edges_set_corrupted - edges_set)\n",
        "\n",
        "    return len(missing_edges), len(spurious_edges)"
      ],
      "metadata": {
        "id": "mipjlS3JsqI3"
      },
      "execution_count": 35,
      "outputs": []
    },
    {
      "cell_type": "code",
      "source": [
        "class CustomGraphDataset(Dataset):\n",
        "    def __init__(self, root, edge_index, node_features, labels, transform=None):\n",
        "        super(CustomGraphDataset, self).__init__(root, transform=transform)\n",
        "\n",
        "        # Prepare data\n",
        "        self.data = Data(x=node_features, edge_index=edge_index, y=labels)\n",
        "\n",
        "    def len(self):\n",
        "        return 1  # Returning 1 since we have a single graph\n",
        "\n",
        "    def get(self, idx):\n",
        "        # Return the graph data for index `idx` (used in transform)\n",
        "        return self.data\n",
        "\n",
        "\n",
        "def customGraphData(g):\n",
        "    \"\"\"\n",
        "    Prepare the graph data for PyTorch Geometric from a networkx graph.\n",
        "    \"\"\"\n",
        "    # Get the edge list\n",
        "    edge_index = graphToEdgelist(g)\n",
        "\n",
        "    # Get the node feature matrix\n",
        "    node_features = obtainFeatureMatrix(g, False)\n",
        "\n",
        "    # Set node labels to zero\n",
        "    labels = torch.zeros(g.number_of_nodes())\n",
        "\n",
        "    return edge_index, node_features, labels\n"
      ],
      "metadata": {
        "id": "KnEOnTtq9xfe"
      },
      "execution_count": 63,
      "outputs": []
    },
    {
      "cell_type": "markdown",
      "source": [
        "## Training test"
      ],
      "metadata": {
        "id": "c5_zq2_5X283"
      }
    },
    {
      "cell_type": "code",
      "source": [
        "g = nx.karate_club_graph()\n",
        "g2 = corruptNetwork(g, 0.1)\n",
        "edge_index = graphToEdgelist(g)\n",
        "x = obtainFeatureMatrix(g)\n",
        "compareGraphs(g, g2)"
      ],
      "metadata": {
        "colab": {
          "base_uri": "https://localhost:8080/"
        },
        "id": "V9CektF3YaJ-",
        "outputId": "74cf9240-669b-40c5-84d3-3d129206a04c"
      },
      "execution_count": null,
      "outputs": [
        {
          "output_type": "execute_result",
          "data": {
            "text/plain": [
              "(7, 7)"
            ]
          },
          "metadata": {},
          "execution_count": 28
        }
      ]
    },
    {
      "cell_type": "code",
      "source": [
        "class Net(torch.nn.Module):\n",
        "    def __init__(self, in_channels, hidden_channels, out_channels):\n",
        "        super().__init__()\n",
        "        ## Check cached option for transductive learning\n",
        "        self.conv1 = GCNConv(in_channels, hidden_channels)\n",
        "        self.conv2 = GCNConv(hidden_channels, out_channels)\n",
        "\n",
        "    def encode(self, x, edge_index):\n",
        "        x = self.conv1(x, edge_index).relu()\n",
        "        z = self.conv2(x, edge_index)\n",
        "        return z\n",
        "\n",
        "    def decode(self, z, edge_label_index):\n",
        "        return (z[edge_label_index[0]] * z[edge_label_index[1]]).sum(dim=-1)\n",
        "\n",
        "    def decode_all(self, z):\n",
        "        ## This filter is the same of applying the sigmoid and requiring p>0.5\n",
        "        prob_adj = z @ z.t()\n",
        "        return (prob_adj > 0).nonzero(as_tuple=False).t()\n",
        "\n",
        "\n",
        "# model = Net(9, 128, 64).to(device)\n",
        "model = Net(9, 256, 128)\n",
        "\n",
        "optimizer = torch.optim.Adam(params=model.parameters(), lr=0.01, weight_decay=5e-4)\n",
        "criterion = torch.nn.BCEWithLogitsLoss() # this applies the sigmoid to the output and later computes binary cross entropy"
      ],
      "metadata": {
        "id": "tUQGllR3X4wY"
      },
      "execution_count": null,
      "outputs": []
    },
    {
      "cell_type": "code",
      "source": [
        "# SBM\n",
        "sizes = [7000, 11000]\n",
        "sbm_matrix = np.array([[0.9, 0.1], [0.1, 0.2]])\n",
        "N = np.sum(sizes)\n",
        "\n",
        "# BA\n",
        "m = 3\n",
        "N = 100"
      ],
      "metadata": {
        "id": "ff4p-CPmZZeo"
      },
      "execution_count": null,
      "outputs": []
    },
    {
      "cell_type": "code",
      "source": [
        "def train():\n",
        "    model.train()\n",
        "    optimizer.zero_grad()\n",
        "\n",
        "    # Get the network and corrupt it\n",
        "    g = nx.stochastic_block_model(sizes, sbm_matrix)\n",
        "    #g = nx.barabasi_albert_graph(N, m)\n",
        "\n",
        "    g_corrupted = corruptNetwork(g, 0.1)\n",
        "    edge_index_corrupted = graphToEdgelist(g_corrupted)\n",
        "    x = obtainFeatureMatrix(g)\n",
        "\n",
        "    # Encoding\n",
        "    z = model.encode(x, edge_index_corrupted)\n",
        "\n",
        "    # Decoding\n",
        "    edge_label_index, edge_label = graphToEdgeLabel(g, 10)\n",
        "    out = model.decode(z, edge_label_index).view(-1)\n",
        "\n",
        "    # Loss\n",
        "    loss = criterion(out, edge_label)\n",
        "    loss.backward()\n",
        "    optimizer.step()\n",
        "\n",
        "    return loss"
      ],
      "metadata": {
        "id": "fQqqwBcxYztw"
      },
      "execution_count": null,
      "outputs": []
    },
    {
      "cell_type": "code",
      "source": [
        "@torch.no_grad()\n",
        "def test(full_output=False):\n",
        "    model.eval()\n",
        "\n",
        "    # Get the network and corrupt it\n",
        "    g = nx.stochastic_block_model(sizes, sbm_matrix)\n",
        "    # g = nx.barabasi_albert_graph(N, m)\n",
        "\n",
        "    g_corrupted = corruptNetwork(g, 0.1)\n",
        "    edge_index_corrupted = graphToEdgelist(g_corrupted)\n",
        "    x = obtainFeatureMatrix(g)\n",
        "\n",
        "    # Encoding\n",
        "    z = model.encode(x, edge_index_corrupted)\n",
        "\n",
        "    # Decoding\n",
        "    edge_label_index, edge_label = graphToEdgeLabel(g, 200)\n",
        "    out = model.decode(z, edge_label_index).view(-1)\n",
        "\n",
        "    # Score\n",
        "    auc = roc_auc_score(edge_label, out)\n",
        "\n",
        "    if full_output:\n",
        "        # Prepare results\n",
        "        out = out.cpu().detach().numpy()\n",
        "        edge_label = edge_label.cpu().detach().numpy()\n",
        "\n",
        "        return auc, out, edge_label\n",
        "    else:\n",
        "        return auc"
      ],
      "metadata": {
        "id": "gigsumpEecAm"
      },
      "execution_count": null,
      "outputs": []
    },
    {
      "cell_type": "code",
      "source": [
        "train()"
      ],
      "metadata": {
        "colab": {
          "base_uri": "https://localhost:8080/",
          "height": 141
        },
        "id": "3Eyg5obrfp5c",
        "outputId": "8bbb4207-4c61-42a4-bba6-88de0aca495f"
      },
      "execution_count": null,
      "outputs": [
        {
          "output_type": "error",
          "ename": "NameError",
          "evalue": "name 'train' is not defined",
          "traceback": [
            "\u001b[0;31m---------------------------------------------------------------------------\u001b[0m",
            "\u001b[0;31mNameError\u001b[0m                                 Traceback (most recent call last)",
            "\u001b[0;32m<ipython-input-1-2da0ffaf5447>\u001b[0m in \u001b[0;36m<cell line: 1>\u001b[0;34m()\u001b[0m\n\u001b[0;32m----> 1\u001b[0;31m \u001b[0mtrain\u001b[0m\u001b[0;34m(\u001b[0m\u001b[0;34m)\u001b[0m\u001b[0;34m\u001b[0m\u001b[0;34m\u001b[0m\u001b[0m\n\u001b[0m",
            "\u001b[0;31mNameError\u001b[0m: name 'train' is not defined"
          ]
        }
      ]
    },
    {
      "cell_type": "code",
      "source": [
        "@torch.no_grad()\n",
        "def testNetworkReconstruction(p_cut=0.5):\n",
        "    model.eval()\n",
        "\n",
        "    # Get the network and corrupt it\n",
        "    g = nx.stochastic_block_model(sizes, sbm_matrix)\n",
        "    # g = nx.barabasi_albert_graph(N, m)\n",
        "    g_corrupted = corruptNetwork(g, 0.1)\n",
        "    edge_index_corrupted = graphToEdgelist(g_corrupted)\n",
        "    x = obtainFeatureMatrix(g)\n",
        "\n",
        "    # Encode and decode all\n",
        "    z = model.encode(x, edge_index_corrupted)\n",
        "    #edge_list = model.decode_all(z)\n",
        "    prob_adj = torch.sigmoid(z @ z.t())\n",
        "    edge_list = (prob_adj > p_cut).nonzero(as_tuple=False).t()\n",
        "\n",
        "    # Network reconstruction\n",
        "    g_reconstructed = edgelistToGraph(edge_list)\n",
        "\n",
        "    # Comparisons\n",
        "    missing_obs, spurious_obs = compareGraphs(g, g_corrupted)\n",
        "    missing_recon, spurious_recon = compareGraphs(g, g_reconstructed)\n",
        "    # print(\"Missing interactions (observed):\", missing_obs)\n",
        "    # print(\"Spurious interactions (observed):\", spurious_obs)\n",
        "    # print(\"Missing interactions (reconstructed):\", missing_recon)\n",
        "    # print(\"Spurious interactions (reconstructed):\", spurious_recon)\n",
        "    missing_ratio = missing_recon / missing_obs\n",
        "    spurious_ratio = spurious_recon / spurious_obs\n",
        "\n",
        "    return missing_ratio, spurious_ratio"
      ],
      "metadata": {
        "id": "BznPRK94_28v"
      },
      "execution_count": null,
      "outputs": []
    },
    {
      "cell_type": "code",
      "source": [
        "# auc, out, edge_label = test(full_output=True)\n",
        "# plt.hist(sigmoid(out[edge_label == 1]), bins=20, label='Positive', alpha=0.5)\n",
        "# plt.hist(sigmoid(out[edge_label == 0]), bins=20, label='Negative', alpha=0.5)\n",
        "# plt.legend()\n",
        "# print(f\"AUC = {auc}\")"
      ],
      "metadata": {
        "id": "pOOc8oSsgR8k"
      },
      "execution_count": null,
      "outputs": []
    },
    {
      "cell_type": "markdown",
      "source": [
        "Initially, the output is very high (e.g. peaked at 1000). Since we are training with an implicit sigmoid, the output at the end of the training will have much smaller values."
      ],
      "metadata": {
        "id": "ruPYXc_oAYkd"
      }
    },
    {
      "cell_type": "code",
      "source": [
        "# Minimal training\n",
        "loss_history = []\n",
        "val_history = []\n",
        "\n",
        "for epoch in tqdm(range(1, 101)):\n",
        "    loss = train()\n",
        "    score = test()\n",
        "\n",
        "    loss_history.append(loss.cpu().detach().numpy())\n",
        "    val_history.append(score)"
      ],
      "metadata": {
        "id": "e75wml9mui7w"
      },
      "execution_count": null,
      "outputs": []
    },
    {
      "cell_type": "code",
      "source": [
        "plt.figure(figsize=(10, 3))\n",
        "plt.subplot(1, 2, 1)\n",
        "plt.plot(loss_history)\n",
        "plt.yscale(\"log\")\n",
        "plt.title(\"Loss\")\n",
        "\n",
        "plt.subplot(1, 2, 2)\n",
        "plt.plot(val_history)\n",
        "plt.yscale(\"linear\")\n",
        "plt.title(\"Validation AUC\")"
      ],
      "metadata": {
        "id": "53JJ_pJBvTA-"
      },
      "execution_count": null,
      "outputs": []
    },
    {
      "cell_type": "code",
      "source": [
        "## Bling test\n",
        "\n",
        "# Model and encoding\n",
        "model.eval()\n",
        "g = nx.stochastic_block_model(sizes, sbm_matrix)\n",
        "# g = nx.barabasi_albert_graph(N, m)\n",
        "g_corrupted = corruptNetwork(g, 0.1)\n",
        "edge_index_corrupted = graphToEdgelist(g_corrupted)\n",
        "x = obtainFeatureMatrix(g_corrupted)\n",
        "z = model.encode(x, edge_index_corrupted)\n",
        "\n",
        "# Decoding\n",
        "edges = graphToEdgelist(g)\n",
        "not_edges = graphToNonEdgelist(g_corrupted)\n",
        "pairs = getAllPairs(N)\n",
        "\n",
        "out = model.decode(z, pairs).view(-1) # Decode all the pairs of nodes\n",
        "out_edges = model.decode(z, edges).view(-1) # Decode all the edges\n",
        "out_not_edges = model.decode(z, not_edges).view(-1) # Decode all the not edges\n",
        "\n",
        "# Cpu and detach output\n",
        "out = out.cpu().detach().numpy()\n",
        "out_edges = out_edges.cpu().detach().numpy()\n",
        "out_not_edges = out_not_edges.cpu().detach().numpy()\n",
        "\n",
        "plt.figure(figsize=(10, 3))\n",
        "plt.subplot(1, 2, 1)\n",
        "#plt.hist(sigmoid(out), bins=100, density=True, alpha=0.5, label=\"Full output\")\n",
        "plt.hist(sigmoid(out_edges), bins=100, density=True, alpha=0.5, label=\"Positive\")\n",
        "plt.hist(sigmoid(out_not_edges), bins=100, density=True, alpha=0.5, label=\"Negative\")\n",
        "plt.legend()\n",
        "plt.vlines(0.5, 0, 1, linestyles='dashed', colors='red')\n",
        "plt.title(\"Check accuracy\")\n",
        "\n",
        "plt.subplot(1, 2, 2)\n",
        "plt.hist(sigmoid(out), bins=100, density=True, alpha=0.5, label=\"Full output\")\n",
        "plt.hist(sigmoid(np.concatenate([out_edges, out_not_edges])), bins=100, density=True, alpha=0.5, label=\"Positive + negative\")\n",
        "plt.legend()\n",
        "plt.title(\"Sanity check\");"
      ],
      "metadata": {
        "colab": {
          "base_uri": "https://localhost:8080/",
          "height": 314
        },
        "id": "3ueXvq3AVILD",
        "outputId": "99743b11-7fe9-49bb-8380-0c5dc81293e0"
      },
      "execution_count": null,
      "outputs": [
        {
          "output_type": "display_data",
          "data": {
            "text/plain": [
              "<Figure size 1000x300 with 2 Axes>"
            ],
            "image/png": "[encoded data removed]"
          },
          "metadata": {}
        }
      ]
    },
    {
      "cell_type": "code",
      "source": [
        "p_vec = np.linspace(0.4, 0.8, 7)\n",
        "trials = 5\n",
        "\n",
        "missing_ratio = np.zeros((len(p_vec), trials))\n",
        "spurious_ratio = np.zeros((len(p_vec), trials))\n",
        "for i in tqdm(range(len(p_vec))):\n",
        "    p = p_vec[i]\n",
        "    for t in range(trials):\n",
        "        missing, spurious = testNetworkReconstruction(p_cut=p)\n",
        "        missing_ratio[i, t] = missing\n",
        "        spurious_ratio[i, t] = spurious\n",
        "\n",
        "plt.title(\"Role of the cutoff\")\n",
        "#plt.plot(p_vec, np.mean(missing_ratio, axis=1), label=\"Missing\")\n",
        "plt.errorbar(p_vec, np.mean(missing_ratio, axis=1), yerr=np.std(missing_ratio, axis=1), label=\"Missing\", capsize=2)\n",
        "#plt.plot(p_vec, np.mean(spurious_ratio, axis=1), label=\"Spurious\")\n",
        "plt.errorbar(p_vec, np.mean(spurious_ratio, axis=1), yerr=np.std(spurious_ratio, axis=1), label=\"Spurious\", capsize=2)\n",
        "plt.legend()\n",
        "plt.xlabel(\"p cut\");"
      ],
      "metadata": {
        "colab": {
          "base_uri": "https://localhost:8080/",
          "height": 489
        },
        "id": "ABjppeiqS18b",
        "outputId": "444049a5-2059-47d2-895e-2707701d46a2"
      },
      "execution_count": null,
      "outputs": [
        {
          "output_type": "stream",
          "name": "stderr",
          "text": [
            "100%|██████████| 7/7 [00:11<00:00,  1.59s/it]\n"
          ]
        },
        {
          "output_type": "display_data",
          "data": {
            "text/plain": [
              "<Figure size 640x480 with 1 Axes>"
            ],
            "image/png": "[encoded data removed]"
          },
          "metadata": {}
        }
      ]
    },
    {
      "cell_type": "markdown",
      "source": [
        "In the figure above the ratio is for instance missing_recon / missing_obs, which means that we would like a value lower than one."
      ],
      "metadata": {
        "id": "IAp9vMbpWzCb"
      }
    },
    {
      "cell_type": "code",
      "source": [
        "# Full training (early stopping, etc...)\n",
        "loss_history = []\n",
        "val_history = []\n",
        "bestValScore = 0\n",
        "patience = 10\n",
        "patienceCounter = 0\n",
        "minDelta = 0.001\n",
        "bestModelState = None\n",
        "model = Net(9, 1028, 8)\n",
        "optimizer = torch.optim.Adam(params=model.parameters(), lr=0.005, weight_decay=5e-4)\n",
        "\n",
        "for epoch in tqdm(range(1, 101)):\n",
        "    loss = train()\n",
        "    score = test()\n",
        "\n",
        "    loss_history.append(loss.cpu().detach().numpy())\n",
        "    val_history.append(score)\n",
        "\n",
        "    if score > bestValScore + minDelta:\n",
        "        bestValScore = score\n",
        "        patienceCounter = 0\n",
        "        bestModelState = model.state_dict()\n",
        "    else:\n",
        "        patienceCounter += 1\n",
        "\n",
        "    if patienceCounter >= patience:\n",
        "        print(f\"Early stopping at epoch {epoch}\")\n",
        "        break\n",
        "\n",
        "if bestModelState is not None:\n",
        "    model.load_state_dict(bestModelState)\n",
        "    print(\"Loaded best model state\")"
      ],
      "metadata": {
        "colab": {
          "base_uri": "https://localhost:8080/"
        },
        "id": "tbd0Xjt7dm2D",
        "outputId": "6c422c44-85ac-4086-8e66-37b359c357fc"
      },
      "execution_count": null,
      "outputs": [
        {
          "output_type": "stream",
          "name": "stderr",
          "text": [
            " 21%|██        | 21/100 [00:11<00:43,  1.83it/s]"
          ]
        },
        {
          "output_type": "stream",
          "name": "stdout",
          "text": [
            "Early stopping at epoch 22\n",
            "Loaded best model state\n"
          ]
        },
        {
          "output_type": "stream",
          "name": "stderr",
          "text": [
            "\n"
          ]
        }
      ]
    },
    {
      "cell_type": "code",
      "source": [
        "bestModelState"
      ],
      "metadata": {
        "colab": {
          "base_uri": "https://localhost:8080/"
        },
        "id": "HEgPibSuQS_P",
        "outputId": "55c95968-331b-489f-895b-e93dfcc37c35"
      },
      "execution_count": null,
      "outputs": [
        {
          "output_type": "execute_result",
          "data": {
            "text/plain": [
              "OrderedDict([('conv1.bias',\n",
              "              tensor([-0.0214, -0.0101, -0.0082,  ..., -0.0121,  0.0128, -0.0122])),\n",
              "             ('conv1.lin.weight',\n",
              "              tensor([[-0.0299,  0.0208, -0.0770,  ...,  0.0143, -0.0166, -0.0210],\n",
              "                      [-0.0105, -0.0523, -0.0124,  ..., -0.0027, -0.0061, -0.0067],\n",
              "                      [-0.0167, -0.0047,  0.0118,  ...,  0.0493,  0.0577,  0.0016],\n",
              "                      ...,\n",
              "                      [ 0.0032, -0.0038, -0.0148,  ..., -0.0635,  0.0616,  0.0367],\n",
              "                      [ 0.0155,  0.0210,  0.0016,  ...,  0.0015,  0.0134,  0.0160],\n",
              "                      [ 0.0516, -0.0368,  0.0590,  ...,  0.0033, -0.0263,  0.0343]])),\n",
              "             ('conv2.bias',\n",
              "              tensor([ 0.0014, -0.0011, -0.0008,  0.0007, -0.0003,  0.0007,  0.0005,  0.0008])),\n",
              "             ('conv2.lin.weight',\n",
              "              tensor([[ 0.0103,  0.0036, -0.0089,  ..., -0.0646,  0.0204,  0.0374],\n",
              "                      [-0.0200, -0.0231,  0.0395,  ...,  0.0613, -0.0254,  0.0190],\n",
              "                      [-0.0006,  0.0294,  0.0138,  ...,  0.0625,  0.0017,  0.0074],\n",
              "                      ...,\n",
              "                      [-0.0172,  0.0268, -0.0077,  ..., -0.0069,  0.0095,  0.0520],\n",
              "                      [ 0.0462,  0.0446, -0.0200,  ...,  0.0374,  0.0082,  0.0372],\n",
              "                      [ 0.0326,  0.0245, -0.0164,  ...,  0.0537, -0.0139, -0.0755]]))])"
            ]
          },
          "metadata": {},
          "execution_count": 21
        }
      ]
    },
    {
      "cell_type": "code",
      "source": [
        "plt.plot(loss_history)\n",
        "plt.yscale(\"linear\")"
      ],
      "metadata": {
        "colab": {
          "base_uri": "https://localhost:8080/",
          "height": 430
        },
        "id": "l7HjWNrOd7uV",
        "outputId": "bc2d822d-f04b-4ed0-f0cc-d7bfa39b433f"
      },
      "execution_count": null,
      "outputs": [
        {
          "output_type": "display_data",
          "data": {
            "text/plain": [
              "<Figure size 640x480 with 1 Axes>"
            ],
            "image/png": "[encoded data removed]"
          },
          "metadata": {}
        }
      ]
    },
    {
      "cell_type": "code",
      "source": [
        "plt.plot(val_history)\n",
        "# Plot moving average\n",
        "plt.plot(np.convolve(val_history, np.ones(15)/15, mode='valid'))"
      ],
      "metadata": {
        "colab": {
          "base_uri": "https://localhost:8080/",
          "height": 447
        },
        "id": "izDt8U5kfmXO",
        "outputId": "cbb6fdd6-32a3-4ebb-b403-098f59a07edd"
      },
      "execution_count": null,
      "outputs": [
        {
          "output_type": "execute_result",
          "data": {
            "text/plain": [
              "[<matplotlib.lines.Line2D at 0x7830176aa3e0>]"
            ]
          },
          "metadata": {},
          "execution_count": 23
        },
        {
          "output_type": "display_data",
          "data": {
            "text/plain": [
              "<Figure size 640x480 with 1 Axes>"
            ],
            "image/png": "[encoded data removed]"
          },
          "metadata": {}
        }
      ]
    },
    {
      "cell_type": "markdown",
      "source": [
        "Il problema è che la validation oscilla tantissimo e non si stabilizza?\n",
        "- overfitting o underfitting?\n",
        "- necessità di più features per i nodi?\n"
      ],
      "metadata": {
        "id": "1uHSL-FAx4o8"
      }
    },
    {
      "cell_type": "markdown",
      "source": [
        "# COMBINATORY FOR CONFIGURATION AND LEARNING RATE"
      ],
      "metadata": {
        "id": "IrYOZhK4gEFk"
      }
    },
    {
      "cell_type": "code",
      "source": [
        "import numpy as np\n",
        "import torch\n",
        "from tqdm import tqdm\n",
        "\n",
        "# Range dei tassi di apprendimento\n",
        "exps = np.arange(-7, 0)\n",
        "learningRates = [10.0**exp for exp in exps]\n",
        "\n",
        "learningRates = [0.001, 0.005, 0.01, 0.05]\n",
        "\n",
        "# Lista per memorizzare i risultati finali per ciascun tasso di apprendimento\n",
        "finalValsL = []\n",
        "\n",
        "for learningRate in learningRates:\n",
        "    print(\"The learning rate is\", learningRate)\n",
        "    model = Net(9, 8, 4)\n",
        "    optimizer = torch.optim.Adam(params=model.parameters(), lr=learningRate, weight_decay=5e-4)\n",
        "\n",
        "    finalVals = []\n",
        "\n",
        "    for iteration in range(10):  # Modifica il numero di iterazioni se necessario\n",
        "        loss_history = []\n",
        "        val_history = []\n",
        "        bestValScore = 0\n",
        "        patience = 10\n",
        "        patienceCounter = 0\n",
        "        minDelta = 0.01\n",
        "        bestModelState = None\n",
        "\n",
        "        for epoch in tqdm(range(1, 101)):\n",
        "            loss = train()\n",
        "            score = test()\n",
        "\n",
        "            loss_history.append(loss.cpu().detach().numpy())\n",
        "            val_history.append(score)\n",
        "\n",
        "            if score > bestValScore + minDelta:\n",
        "                bestValScore = score\n",
        "                patienceCounter = 0\n",
        "                bestModelState = model.state_dict()\n",
        "            else:\n",
        "                patienceCounter += 1\n",
        "\n",
        "            if patienceCounter >= patience:\n",
        "                print(f\"Early stopping at epoch {epoch}\")\n",
        "                break\n",
        "\n",
        "        if bestModelState is not None:\n",
        "            model.load_state_dict(bestModelState)\n",
        "        finalVals.append(val_history[-1])\n",
        "\n",
        "    # Calcola il valore finale medio per questo tasso di apprendimento\n",
        "    finalVal = np.mean(finalVals)\n",
        "    finalValsL.append(finalVal)\n",
        "    print(\"The final value of the accuracy is\", finalVal)\n",
        "\n",
        "# Trova il miglior tasso di apprendimento\n",
        "bestLearningRate = learningRates[np.argmax(finalValsL)]\n",
        "print(\"The better performances are obtained with the learning rate =\", bestLearningRate)\n",
        "print(\"The best accuracy obtained is\", np.max(finalValsL))\n"
      ],
      "metadata": {
        "colab": {
          "base_uri": "https://localhost:8080/"
        },
        "id": "jm5Rx0URgoOV",
        "outputId": "81a76cba-e94b-4765-d5f2-0b52450548fa"
      },
      "execution_count": null,
      "outputs": [
        {
          "output_type": "stream",
          "name": "stdout",
          "text": [
            "The learning rate is 0.001\n"
          ]
        },
        {
          "output_type": "stream",
          "name": "stderr",
          "text": [
            " 11%|█         | 11/100 [00:06<00:55,  1.60it/s]\n"
          ]
        },
        {
          "output_type": "stream",
          "name": "stdout",
          "text": [
            "Early stopping at epoch 12\n"
          ]
        },
        {
          "output_type": "stream",
          "name": "stderr",
          "text": [
            " 14%|█▍        | 14/100 [00:06<00:42,  2.00it/s]\n"
          ]
        },
        {
          "output_type": "stream",
          "name": "stdout",
          "text": [
            "Early stopping at epoch 15\n"
          ]
        },
        {
          "output_type": "stream",
          "name": "stderr",
          "text": [
            " 21%|██        | 21/100 [00:11<00:44,  1.76it/s]\n"
          ]
        },
        {
          "output_type": "stream",
          "name": "stdout",
          "text": [
            "Early stopping at epoch 22\n"
          ]
        },
        {
          "output_type": "stream",
          "name": "stderr",
          "text": [
            " 10%|█         | 10/100 [00:05<00:53,  1.70it/s]\n"
          ]
        },
        {
          "output_type": "stream",
          "name": "stdout",
          "text": [
            "Early stopping at epoch 11\n"
          ]
        },
        {
          "output_type": "stream",
          "name": "stderr",
          "text": [
            " 14%|█▍        | 14/100 [00:07<00:44,  1.91it/s]\n"
          ]
        },
        {
          "output_type": "stream",
          "name": "stdout",
          "text": [
            "Early stopping at epoch 15\n"
          ]
        },
        {
          "output_type": "stream",
          "name": "stderr",
          "text": [
            " 10%|█         | 10/100 [00:06<01:00,  1.48it/s]\n"
          ]
        },
        {
          "output_type": "stream",
          "name": "stdout",
          "text": [
            "Early stopping at epoch 11\n"
          ]
        },
        {
          "output_type": "stream",
          "name": "stderr",
          "text": [
            " 10%|█         | 10/100 [00:05<00:51,  1.75it/s]\n"
          ]
        },
        {
          "output_type": "stream",
          "name": "stdout",
          "text": [
            "Early stopping at epoch 11\n"
          ]
        },
        {
          "output_type": "stream",
          "name": "stderr",
          "text": [
            " 15%|█▌        | 15/100 [00:09<00:55,  1.54it/s]\n"
          ]
        },
        {
          "output_type": "stream",
          "name": "stdout",
          "text": [
            "Early stopping at epoch 16\n"
          ]
        },
        {
          "output_type": "stream",
          "name": "stderr",
          "text": [
            " 13%|█▎        | 13/100 [00:06<00:42,  2.05it/s]\n"
          ]
        },
        {
          "output_type": "stream",
          "name": "stdout",
          "text": [
            "Early stopping at epoch 14\n"
          ]
        },
        {
          "output_type": "stream",
          "name": "stderr",
          "text": [
            " 21%|██        | 21/100 [00:12<00:45,  1.72it/s]\n"
          ]
        },
        {
          "output_type": "stream",
          "name": "stdout",
          "text": [
            "Early stopping at epoch 22\n",
            "The final value of the accuracy is 0.72346\n",
            "The learning rate is 0.005\n"
          ]
        },
        {
          "output_type": "stream",
          "name": "stderr",
          "text": [
            " 16%|█▌        | 16/100 [00:11<01:02,  1.34it/s]\n"
          ]
        },
        {
          "output_type": "stream",
          "name": "stdout",
          "text": [
            "Early stopping at epoch 17\n"
          ]
        },
        {
          "output_type": "stream",
          "name": "stderr",
          "text": [
            " 19%|█▉        | 19/100 [00:12<00:53,  1.53it/s]\n"
          ]
        },
        {
          "output_type": "stream",
          "name": "stdout",
          "text": [
            "Early stopping at epoch 20\n"
          ]
        },
        {
          "output_type": "stream",
          "name": "stderr",
          "text": [
            " 12%|█▏        | 12/100 [00:06<00:44,  1.97it/s]\n"
          ]
        },
        {
          "output_type": "stream",
          "name": "stdout",
          "text": [
            "Early stopping at epoch 13\n"
          ]
        },
        {
          "output_type": "stream",
          "name": "stderr",
          "text": [
            " 10%|█         | 10/100 [00:05<00:53,  1.68it/s]\n"
          ]
        },
        {
          "output_type": "stream",
          "name": "stdout",
          "text": [
            "Early stopping at epoch 11\n"
          ]
        },
        {
          "output_type": "stream",
          "name": "stderr",
          "text": [
            " 18%|█▊        | 18/100 [00:10<00:47,  1.71it/s]\n"
          ]
        },
        {
          "output_type": "stream",
          "name": "stdout",
          "text": [
            "Early stopping at epoch 19\n"
          ]
        },
        {
          "output_type": "stream",
          "name": "stderr",
          "text": [
            " 10%|█         | 10/100 [00:04<00:44,  2.01it/s]\n"
          ]
        },
        {
          "output_type": "stream",
          "name": "stdout",
          "text": [
            "Early stopping at epoch 11\n"
          ]
        },
        {
          "output_type": "stream",
          "name": "stderr",
          "text": [
            " 20%|██        | 20/100 [00:10<00:42,  1.89it/s]\n"
          ]
        },
        {
          "output_type": "stream",
          "name": "stdout",
          "text": [
            "Early stopping at epoch 21\n"
          ]
        },
        {
          "output_type": "stream",
          "name": "stderr",
          "text": [
            " 15%|█▌        | 15/100 [00:09<00:52,  1.62it/s]\n"
          ]
        },
        {
          "output_type": "stream",
          "name": "stdout",
          "text": [
            "Early stopping at epoch 16\n"
          ]
        },
        {
          "output_type": "stream",
          "name": "stderr",
          "text": [
            " 13%|█▎        | 13/100 [00:06<00:42,  2.07it/s]\n"
          ]
        },
        {
          "output_type": "stream",
          "name": "stdout",
          "text": [
            "Early stopping at epoch 14\n"
          ]
        },
        {
          "output_type": "stream",
          "name": "stderr",
          "text": [
            " 11%|█         | 11/100 [00:06<00:52,  1.71it/s]\n"
          ]
        },
        {
          "output_type": "stream",
          "name": "stdout",
          "text": [
            "Early stopping at epoch 12\n",
            "The final value of the accuracy is 0.7383900000000001\n",
            "The learning rate is 0.01\n"
          ]
        },
        {
          "output_type": "stream",
          "name": "stderr",
          "text": [
            " 11%|█         | 11/100 [00:05<00:43,  2.04it/s]\n"
          ]
        },
        {
          "output_type": "stream",
          "name": "stdout",
          "text": [
            "Early stopping at epoch 12\n"
          ]
        },
        {
          "output_type": "stream",
          "name": "stderr",
          "text": [
            " 36%|███▌      | 36/100 [00:18<00:32,  1.99it/s]\n"
          ]
        },
        {
          "output_type": "stream",
          "name": "stdout",
          "text": [
            "Early stopping at epoch 37\n"
          ]
        },
        {
          "output_type": "stream",
          "name": "stderr",
          "text": [
            " 15%|█▌        | 15/100 [00:08<00:50,  1.68it/s]\n"
          ]
        },
        {
          "output_type": "stream",
          "name": "stdout",
          "text": [
            "Early stopping at epoch 16\n"
          ]
        },
        {
          "output_type": "stream",
          "name": "stderr",
          "text": [
            " 18%|█▊        | 18/100 [00:09<00:44,  1.85it/s]\n"
          ]
        },
        {
          "output_type": "stream",
          "name": "stdout",
          "text": [
            "Early stopping at epoch 19\n"
          ]
        },
        {
          "output_type": "stream",
          "name": "stderr",
          "text": [
            " 15%|█▌        | 15/100 [00:07<00:40,  2.08it/s]\n"
          ]
        },
        {
          "output_type": "stream",
          "name": "stdout",
          "text": [
            "Early stopping at epoch 16\n"
          ]
        },
        {
          "output_type": "stream",
          "name": "stderr",
          "text": [
            " 15%|█▌        | 15/100 [00:09<00:51,  1.66it/s]\n"
          ]
        },
        {
          "output_type": "stream",
          "name": "stdout",
          "text": [
            "Early stopping at epoch 16\n"
          ]
        },
        {
          "output_type": "stream",
          "name": "stderr",
          "text": [
            " 12%|█▏        | 12/100 [00:06<00:48,  1.80it/s]\n"
          ]
        },
        {
          "output_type": "stream",
          "name": "stdout",
          "text": [
            "Early stopping at epoch 13\n"
          ]
        },
        {
          "output_type": "stream",
          "name": "stderr",
          "text": [
            " 27%|██▋       | 27/100 [00:14<00:39,  1.84it/s]\n"
          ]
        },
        {
          "output_type": "stream",
          "name": "stdout",
          "text": [
            "Early stopping at epoch 28\n"
          ]
        },
        {
          "output_type": "stream",
          "name": "stderr",
          "text": [
            " 19%|█▉        | 19/100 [00:08<00:38,  2.13it/s]\n"
          ]
        },
        {
          "output_type": "stream",
          "name": "stdout",
          "text": [
            "Early stopping at epoch 20\n"
          ]
        },
        {
          "output_type": "stream",
          "name": "stderr",
          "text": [
            " 10%|█         | 10/100 [00:05<00:53,  1.67it/s]\n"
          ]
        },
        {
          "output_type": "stream",
          "name": "stdout",
          "text": [
            "Early stopping at epoch 11\n",
            "The final value of the accuracy is 0.7345800000000001\n",
            "The learning rate is 0.05\n"
          ]
        },
        {
          "output_type": "stream",
          "name": "stderr",
          "text": [
            " 10%|█         | 10/100 [00:04<00:44,  2.03it/s]\n"
          ]
        },
        {
          "output_type": "stream",
          "name": "stdout",
          "text": [
            "Early stopping at epoch 11\n"
          ]
        },
        {
          "output_type": "stream",
          "name": "stderr",
          "text": [
            " 14%|█▍        | 14/100 [00:07<00:47,  1.80it/s]\n"
          ]
        },
        {
          "output_type": "stream",
          "name": "stdout",
          "text": [
            "Early stopping at epoch 15\n"
          ]
        },
        {
          "output_type": "stream",
          "name": "stderr",
          "text": [
            " 10%|█         | 10/100 [00:04<00:43,  2.05it/s]\n"
          ]
        },
        {
          "output_type": "stream",
          "name": "stdout",
          "text": [
            "Early stopping at epoch 11\n"
          ]
        },
        {
          "output_type": "stream",
          "name": "stderr",
          "text": [
            " 10%|█         | 10/100 [00:05<00:52,  1.72it/s]\n"
          ]
        },
        {
          "output_type": "stream",
          "name": "stdout",
          "text": [
            "Early stopping at epoch 11\n"
          ]
        },
        {
          "output_type": "stream",
          "name": "stderr",
          "text": [
            " 10%|█         | 10/100 [00:05<00:48,  1.85it/s]\n"
          ]
        },
        {
          "output_type": "stream",
          "name": "stdout",
          "text": [
            "Early stopping at epoch 11\n"
          ]
        },
        {
          "output_type": "stream",
          "name": "stderr",
          "text": [
            " 10%|█         | 10/100 [00:04<00:44,  2.04it/s]\n"
          ]
        },
        {
          "output_type": "stream",
          "name": "stdout",
          "text": [
            "Early stopping at epoch 11\n"
          ]
        },
        {
          "output_type": "stream",
          "name": "stderr",
          "text": [
            " 10%|█         | 10/100 [00:06<00:55,  1.63it/s]\n"
          ]
        },
        {
          "output_type": "stream",
          "name": "stdout",
          "text": [
            "Early stopping at epoch 11\n"
          ]
        },
        {
          "output_type": "stream",
          "name": "stderr",
          "text": [
            " 10%|█         | 10/100 [00:04<00:44,  2.04it/s]\n"
          ]
        },
        {
          "output_type": "stream",
          "name": "stdout",
          "text": [
            "Early stopping at epoch 11\n"
          ]
        },
        {
          "output_type": "stream",
          "name": "stderr",
          "text": [
            " 10%|█         | 10/100 [00:05<00:53,  1.68it/s]\n"
          ]
        },
        {
          "output_type": "stream",
          "name": "stdout",
          "text": [
            "Early stopping at epoch 11\n"
          ]
        },
        {
          "output_type": "stream",
          "name": "stderr",
          "text": [
            " 10%|█         | 10/100 [00:04<00:43,  2.08it/s]"
          ]
        },
        {
          "output_type": "stream",
          "name": "stdout",
          "text": [
            "Early stopping at epoch 11\n",
            "The final value of the accuracy is 0.50587\n",
            "The better performances are obtained with the learning rate = 0.005\n",
            "The best accuracy obtained is 0.7383900000000001\n"
          ]
        },
        {
          "output_type": "stream",
          "name": "stderr",
          "text": [
            "\n"
          ]
        }
      ]
    },
    {
      "cell_type": "code",
      "source": [
        "plt.plot(finalValsL)"
      ],
      "metadata": {
        "colab": {
          "base_uri": "https://localhost:8080/",
          "height": 452
        },
        "id": "hw2LZZKWs9Nm",
        "outputId": "00f882f1-c12f-4634-a3f0-e7a13cd79371"
      },
      "execution_count": null,
      "outputs": [
        {
          "output_type": "execute_result",
          "data": {
            "text/plain": [
              "[<matplotlib.lines.Line2D at 0x78300cdb6980>]"
            ]
          },
          "metadata": {},
          "execution_count": 25
        },
        {
          "output_type": "display_data",
          "data": {
            "text/plain": [
              "<Figure size 640x480 with 1 Axes>"
            ],
            "image/png": "[encoded data removed]"
          },
          "metadata": {}
        }
      ]
    },
    {
      "cell_type": "code",
      "source": [
        "configuration = [\n",
        "    (9, 4, 2),\n",
        "    (9, 8, 2),\n",
        "    (9, 16, 2),\n",
        "    (9, 32, 2),\n",
        "    (9, 64, 2),\n",
        "    (9, 128, 2),\n",
        "    (9, 256, 2),\n",
        "    (9, 4, 4),\n",
        "    (9, 8, 4),\n",
        "    (9, 16, 4),\n",
        "    (9, 32, 4),\n",
        "    (9, 64, 4),\n",
        "    (9, 128, 4),\n",
        "    (9, 256, 4),\n",
        "    (9, 8, 8),\n",
        "    (9, 16, 8),\n",
        "    (9, 32, 8),\n",
        "    (9, 64, 8),\n",
        "    (9, 128, 8),\n",
        "    (9, 256, 8),\n",
        "\n",
        "]\n",
        "means = []\n",
        "for i in configuration:\n",
        "    print(\"The configuration of the model is\",i)\n",
        "    model = Net(*i)\n",
        "    optimizer = torch.optim.Adam(params=model.parameters(), lr=bestLearningRate, weight_decay=5e-4)\n",
        "\n",
        "\n",
        "    for iteration in range(10):\n",
        "\n",
        "        finalVal = []\n",
        "        loss_history = []\n",
        "        val_history = []\n",
        "        bestValScore = 0\n",
        "        patience = 10\n",
        "        patienceCounter = 0\n",
        "        minDelta = 0.01\n",
        "        bestModelState = None\n",
        "\n",
        "        for epoch in tqdm(range(1, 101)):\n",
        "            loss = train()\n",
        "            score = test()\n",
        "\n",
        "            loss_history.append(loss.cpu().detach().numpy())\n",
        "            val_history.append(score)\n",
        "            # print(f\"Epoch {epoch}: Loss = {loss.item()}, Score = {score}\")\n",
        "\n",
        "            if score > bestValScore + minDelta:\n",
        "                bestValScore = score\n",
        "                patienceCounter = 0\n",
        "                bestModelState = model.state_dict()\n",
        "            else:\n",
        "                patienceCounter += 1\n",
        "\n",
        "            if patienceCounter >= patience:\n",
        "                print(f\"Early stopping at epoch {epoch}\")\n",
        "                break\n",
        "\n",
        "        if bestModelState is not None:\n",
        "            model.load_state_dict(bestModelState)\n",
        "        finalVal.append(val_history[-1])\n",
        "    finalMeans = np.mean(finalVal)\n",
        "    print(\"The final value of the accuracy is\", np.mean(finalVal))\n",
        "    means.append(finalMeans)\n",
        "\n",
        "bestConfiguration = configuration[np.argmax(means)]\n",
        "print(\"The better performances are obtained with the configuration = \", bestConfiguration)\n",
        "print(\"The better accuracy obtained is\", np.max(means))"
      ],
      "metadata": {
        "colab": {
          "base_uri": "https://localhost:8080/"
        },
        "id": "nH4WOqn_alOC",
        "outputId": "b21e0ffc-9e85-41c7-ae4d-7402d960a724"
      },
      "execution_count": null,
      "outputs": [
        {
          "output_type": "stream",
          "name": "stdout",
          "text": [
            "The configuration of the model is (9, 4, 2)\n"
          ]
        },
        {
          "output_type": "stream",
          "name": "stderr",
          "text": [
            " 24%|██▍       | 24/100 [00:12<00:38,  1.98it/s]\n"
          ]
        },
        {
          "output_type": "stream",
          "name": "stdout",
          "text": [
            "Early stopping at epoch 25\n"
          ]
        },
        {
          "output_type": "stream",
          "name": "stderr",
          "text": [
            " 13%|█▎        | 13/100 [00:06<00:43,  2.01it/s]\n"
          ]
        },
        {
          "output_type": "stream",
          "name": "stdout",
          "text": [
            "Early stopping at epoch 14\n"
          ]
        },
        {
          "output_type": "stream",
          "name": "stderr",
          "text": [
            " 17%|█▋        | 17/100 [00:10<00:50,  1.66it/s]\n"
          ]
        },
        {
          "output_type": "stream",
          "name": "stdout",
          "text": [
            "Early stopping at epoch 18\n"
          ]
        },
        {
          "output_type": "stream",
          "name": "stderr",
          "text": [
            " 13%|█▎        | 13/100 [00:07<00:50,  1.71it/s]\n"
          ]
        },
        {
          "output_type": "stream",
          "name": "stdout",
          "text": [
            "Early stopping at epoch 14\n"
          ]
        },
        {
          "output_type": "stream",
          "name": "stderr",
          "text": [
            " 16%|█▌        | 16/100 [00:07<00:39,  2.10it/s]\n"
          ]
        },
        {
          "output_type": "stream",
          "name": "stdout",
          "text": [
            "Early stopping at epoch 17\n"
          ]
        },
        {
          "output_type": "stream",
          "name": "stderr",
          "text": [
            " 28%|██▊       | 28/100 [00:15<00:39,  1.83it/s]\n"
          ]
        },
        {
          "output_type": "stream",
          "name": "stdout",
          "text": [
            "Early stopping at epoch 29\n"
          ]
        },
        {
          "output_type": "stream",
          "name": "stderr",
          "text": [
            " 12%|█▏        | 12/100 [00:06<00:47,  1.84it/s]\n"
          ]
        },
        {
          "output_type": "stream",
          "name": "stdout",
          "text": [
            "Early stopping at epoch 13\n"
          ]
        },
        {
          "output_type": "stream",
          "name": "stderr",
          "text": [
            " 12%|█▏        | 12/100 [00:06<00:47,  1.86it/s]\n"
          ]
        },
        {
          "output_type": "stream",
          "name": "stdout",
          "text": [
            "Early stopping at epoch 13\n"
          ]
        },
        {
          "output_type": "stream",
          "name": "stderr",
          "text": [
            " 13%|█▎        | 13/100 [00:07<00:49,  1.74it/s]\n"
          ]
        },
        {
          "output_type": "stream",
          "name": "stdout",
          "text": [
            "Early stopping at epoch 14\n"
          ]
        },
        {
          "output_type": "stream",
          "name": "stderr",
          "text": [
            " 27%|██▋       | 27/100 [00:14<00:39,  1.84it/s]\n"
          ]
        },
        {
          "output_type": "stream",
          "name": "stdout",
          "text": [
            "Early stopping at epoch 28\n",
            "The final value of the accuracy is 0.7263\n",
            "The configuration of the model is (9, 8, 2)\n"
          ]
        },
        {
          "output_type": "stream",
          "name": "stderr",
          "text": [
            " 19%|█▉        | 19/100 [00:10<00:44,  1.83it/s]\n"
          ]
        },
        {
          "output_type": "stream",
          "name": "stdout",
          "text": [
            "Early stopping at epoch 20\n"
          ]
        },
        {
          "output_type": "stream",
          "name": "stderr",
          "text": [
            " 23%|██▎       | 23/100 [00:12<00:41,  1.87it/s]\n"
          ]
        },
        {
          "output_type": "stream",
          "name": "stdout",
          "text": [
            "Early stopping at epoch 24\n"
          ]
        },
        {
          "output_type": "stream",
          "name": "stderr",
          "text": [
            " 14%|█▍        | 14/100 [00:06<00:42,  2.01it/s]\n"
          ]
        },
        {
          "output_type": "stream",
          "name": "stdout",
          "text": [
            "Early stopping at epoch 15\n"
          ]
        },
        {
          "output_type": "stream",
          "name": "stderr",
          "text": [
            " 12%|█▏        | 12/100 [00:07<00:52,  1.68it/s]\n"
          ]
        },
        {
          "output_type": "stream",
          "name": "stdout",
          "text": [
            "Early stopping at epoch 13\n"
          ]
        },
        {
          "output_type": "stream",
          "name": "stderr",
          "text": [
            " 10%|█         | 10/100 [00:05<00:45,  1.97it/s]\n"
          ]
        },
        {
          "output_type": "stream",
          "name": "stdout",
          "text": [
            "Early stopping at epoch 11\n"
          ]
        },
        {
          "output_type": "stream",
          "name": "stderr",
          "text": [
            " 10%|█         | 10/100 [00:06<00:59,  1.52it/s]\n"
          ]
        },
        {
          "output_type": "stream",
          "name": "stdout",
          "text": [
            "Early stopping at epoch 11\n"
          ]
        },
        {
          "output_type": "stream",
          "name": "stderr",
          "text": [
            " 10%|█         | 10/100 [00:05<00:47,  1.90it/s]\n"
          ]
        },
        {
          "output_type": "stream",
          "name": "stdout",
          "text": [
            "Early stopping at epoch 11\n"
          ]
        },
        {
          "output_type": "stream",
          "name": "stderr",
          "text": [
            " 17%|█▋        | 17/100 [00:09<00:46,  1.78it/s]\n"
          ]
        },
        {
          "output_type": "stream",
          "name": "stdout",
          "text": [
            "Early stopping at epoch 18\n"
          ]
        },
        {
          "output_type": "stream",
          "name": "stderr",
          "text": [
            " 10%|█         | 10/100 [00:05<00:45,  2.00it/s]\n"
          ]
        },
        {
          "output_type": "stream",
          "name": "stdout",
          "text": [
            "Early stopping at epoch 11\n"
          ]
        },
        {
          "output_type": "stream",
          "name": "stderr",
          "text": [
            " 14%|█▍        | 14/100 [00:08<00:49,  1.73it/s]\n"
          ]
        },
        {
          "output_type": "stream",
          "name": "stdout",
          "text": [
            "Early stopping at epoch 15\n",
            "The final value of the accuracy is 0.7305999999999999\n",
            "The configuration of the model is (9, 16, 2)\n"
          ]
        },
        {
          "output_type": "stream",
          "name": "stderr",
          "text": [
            " 16%|█▌        | 16/100 [00:08<00:46,  1.81it/s]\n"
          ]
        },
        {
          "output_type": "stream",
          "name": "stdout",
          "text": [
            "Early stopping at epoch 17\n"
          ]
        },
        {
          "output_type": "stream",
          "name": "stderr",
          "text": [
            " 13%|█▎        | 13/100 [00:06<00:43,  2.00it/s]\n"
          ]
        },
        {
          "output_type": "stream",
          "name": "stdout",
          "text": [
            "Early stopping at epoch 14\n"
          ]
        },
        {
          "output_type": "stream",
          "name": "stderr",
          "text": [
            " 23%|██▎       | 23/100 [00:12<00:40,  1.89it/s]\n"
          ]
        },
        {
          "output_type": "stream",
          "name": "stdout",
          "text": [
            "Early stopping at epoch 24\n"
          ]
        },
        {
          "output_type": "stream",
          "name": "stderr",
          "text": [
            " 10%|█         | 10/100 [00:05<00:49,  1.81it/s]\n"
          ]
        },
        {
          "output_type": "stream",
          "name": "stdout",
          "text": [
            "Early stopping at epoch 11\n"
          ]
        },
        {
          "output_type": "stream",
          "name": "stderr",
          "text": [
            " 10%|█         | 10/100 [00:06<00:54,  1.64it/s]\n"
          ]
        },
        {
          "output_type": "stream",
          "name": "stdout",
          "text": [
            "Early stopping at epoch 11\n"
          ]
        },
        {
          "output_type": "stream",
          "name": "stderr",
          "text": [
            " 14%|█▍        | 14/100 [00:08<00:54,  1.58it/s]\n"
          ]
        },
        {
          "output_type": "stream",
          "name": "stdout",
          "text": [
            "Early stopping at epoch 15\n"
          ]
        },
        {
          "output_type": "stream",
          "name": "stderr",
          "text": [
            " 12%|█▏        | 12/100 [00:06<00:46,  1.88it/s]\n"
          ]
        },
        {
          "output_type": "stream",
          "name": "stdout",
          "text": [
            "Early stopping at epoch 13\n"
          ]
        },
        {
          "output_type": "stream",
          "name": "stderr",
          "text": [
            " 18%|█▊        | 18/100 [00:10<00:45,  1.79it/s]\n"
          ]
        },
        {
          "output_type": "stream",
          "name": "stdout",
          "text": [
            "Early stopping at epoch 19\n"
          ]
        },
        {
          "output_type": "stream",
          "name": "stderr",
          "text": [
            " 10%|█         | 10/100 [00:05<00:45,  1.97it/s]\n"
          ]
        },
        {
          "output_type": "stream",
          "name": "stdout",
          "text": [
            "Early stopping at epoch 11\n"
          ]
        },
        {
          "output_type": "stream",
          "name": "stderr",
          "text": [
            " 28%|██▊       | 28/100 [00:14<00:38,  1.87it/s]\n"
          ]
        },
        {
          "output_type": "stream",
          "name": "stdout",
          "text": [
            "Early stopping at epoch 29\n",
            "The final value of the accuracy is 0.7726000000000001\n",
            "The configuration of the model is (9, 32, 2)\n"
          ]
        },
        {
          "output_type": "stream",
          "name": "stderr",
          "text": [
            " 10%|█         | 10/100 [00:06<01:02,  1.45it/s]\n"
          ]
        },
        {
          "output_type": "stream",
          "name": "stdout",
          "text": [
            "Early stopping at epoch 11\n"
          ]
        },
        {
          "output_type": "stream",
          "name": "stderr",
          "text": [
            " 19%|█▉        | 19/100 [00:11<00:46,  1.72it/s]\n"
          ]
        },
        {
          "output_type": "stream",
          "name": "stdout",
          "text": [
            "Early stopping at epoch 20\n"
          ]
        },
        {
          "output_type": "stream",
          "name": "stderr",
          "text": [
            " 10%|█         | 10/100 [00:05<00:50,  1.77it/s]\n"
          ]
        },
        {
          "output_type": "stream",
          "name": "stdout",
          "text": [
            "Early stopping at epoch 11\n"
          ]
        },
        {
          "output_type": "stream",
          "name": "stderr",
          "text": [
            " 25%|██▌       | 25/100 [00:14<00:42,  1.78it/s]\n"
          ]
        },
        {
          "output_type": "stream",
          "name": "stdout",
          "text": [
            "Early stopping at epoch 26\n"
          ]
        },
        {
          "output_type": "stream",
          "name": "stderr",
          "text": [
            " 22%|██▏       | 22/100 [00:12<00:44,  1.77it/s]\n"
          ]
        },
        {
          "output_type": "stream",
          "name": "stdout",
          "text": [
            "Early stopping at epoch 23\n"
          ]
        },
        {
          "output_type": "stream",
          "name": "stderr",
          "text": [
            " 13%|█▎        | 13/100 [00:07<00:48,  1.79it/s]\n"
          ]
        },
        {
          "output_type": "stream",
          "name": "stdout",
          "text": [
            "Early stopping at epoch 14\n"
          ]
        },
        {
          "output_type": "stream",
          "name": "stderr",
          "text": [
            " 12%|█▏        | 12/100 [00:06<00:50,  1.73it/s]\n"
          ]
        },
        {
          "output_type": "stream",
          "name": "stdout",
          "text": [
            "Early stopping at epoch 13\n"
          ]
        },
        {
          "output_type": "stream",
          "name": "stderr",
          "text": [
            " 11%|█         | 11/100 [00:06<00:53,  1.68it/s]\n"
          ]
        },
        {
          "output_type": "stream",
          "name": "stdout",
          "text": [
            "Early stopping at epoch 12\n"
          ]
        },
        {
          "output_type": "stream",
          "name": "stderr",
          "text": [
            " 10%|█         | 10/100 [00:06<00:54,  1.66it/s]\n"
          ]
        },
        {
          "output_type": "stream",
          "name": "stdout",
          "text": [
            "Early stopping at epoch 11\n"
          ]
        },
        {
          "output_type": "stream",
          "name": "stderr",
          "text": [
            " 12%|█▏        | 12/100 [00:06<00:46,  1.91it/s]\n"
          ]
        },
        {
          "output_type": "stream",
          "name": "stdout",
          "text": [
            "Early stopping at epoch 13\n",
            "The final value of the accuracy is 0.5267000000000001\n",
            "The configuration of the model is (9, 64, 2)\n"
          ]
        },
        {
          "output_type": "stream",
          "name": "stderr",
          "text": [
            " 13%|█▎        | 13/100 [00:07<00:52,  1.66it/s]\n"
          ]
        },
        {
          "output_type": "stream",
          "name": "stdout",
          "text": [
            "Early stopping at epoch 14\n"
          ]
        },
        {
          "output_type": "stream",
          "name": "stderr",
          "text": [
            " 20%|██        | 20/100 [00:11<00:44,  1.78it/s]\n"
          ]
        },
        {
          "output_type": "stream",
          "name": "stdout",
          "text": [
            "Early stopping at epoch 21\n"
          ]
        },
        {
          "output_type": "stream",
          "name": "stderr",
          "text": [
            " 11%|█         | 11/100 [00:05<00:46,  1.93it/s]\n"
          ]
        },
        {
          "output_type": "stream",
          "name": "stdout",
          "text": [
            "Early stopping at epoch 12\n"
          ]
        },
        {
          "output_type": "stream",
          "name": "stderr",
          "text": [
            " 13%|█▎        | 13/100 [00:08<00:53,  1.62it/s]\n"
          ]
        },
        {
          "output_type": "stream",
          "name": "stdout",
          "text": [
            "Early stopping at epoch 14\n"
          ]
        },
        {
          "output_type": "stream",
          "name": "stderr",
          "text": [
            " 13%|█▎        | 13/100 [00:06<00:44,  1.95it/s]\n"
          ]
        },
        {
          "output_type": "stream",
          "name": "stdout",
          "text": [
            "Early stopping at epoch 14\n"
          ]
        },
        {
          "output_type": "stream",
          "name": "stderr",
          "text": [
            " 10%|█         | 10/100 [00:06<01:00,  1.50it/s]\n"
          ]
        },
        {
          "output_type": "stream",
          "name": "stdout",
          "text": [
            "Early stopping at epoch 11\n"
          ]
        },
        {
          "output_type": "stream",
          "name": "stderr",
          "text": [
            " 19%|█▉        | 19/100 [00:10<00:45,  1.80it/s]\n"
          ]
        },
        {
          "output_type": "stream",
          "name": "stdout",
          "text": [
            "Early stopping at epoch 20\n"
          ]
        },
        {
          "output_type": "stream",
          "name": "stderr",
          "text": [
            " 22%|██▏       | 22/100 [00:12<00:42,  1.83it/s]\n"
          ]
        },
        {
          "output_type": "stream",
          "name": "stdout",
          "text": [
            "Early stopping at epoch 23\n"
          ]
        },
        {
          "output_type": "stream",
          "name": "stderr",
          "text": [
            " 10%|█         | 10/100 [00:06<01:02,  1.43it/s]\n"
          ]
        },
        {
          "output_type": "stream",
          "name": "stdout",
          "text": [
            "Early stopping at epoch 11\n"
          ]
        },
        {
          "output_type": "stream",
          "name": "stderr",
          "text": [
            " 11%|█         | 11/100 [00:05<00:45,  1.95it/s]\n"
          ]
        },
        {
          "output_type": "stream",
          "name": "stdout",
          "text": [
            "Early stopping at epoch 12\n",
            "The final value of the accuracy is 0.7984000000000001\n",
            "The configuration of the model is (9, 128, 2)\n"
          ]
        },
        {
          "output_type": "stream",
          "name": "stderr",
          "text": [
            " 19%|█▉        | 19/100 [00:10<00:45,  1.77it/s]\n"
          ]
        },
        {
          "output_type": "stream",
          "name": "stdout",
          "text": [
            "Early stopping at epoch 20\n"
          ]
        },
        {
          "output_type": "stream",
          "name": "stderr",
          "text": [
            " 16%|█▌        | 16/100 [00:09<00:48,  1.73it/s]\n"
          ]
        },
        {
          "output_type": "stream",
          "name": "stdout",
          "text": [
            "Early stopping at epoch 17\n"
          ]
        },
        {
          "output_type": "stream",
          "name": "stderr",
          "text": [
            " 14%|█▍        | 14/100 [00:07<00:45,  1.88it/s]\n"
          ]
        },
        {
          "output_type": "stream",
          "name": "stdout",
          "text": [
            "Early stopping at epoch 15\n"
          ]
        },
        {
          "output_type": "stream",
          "name": "stderr",
          "text": [
            " 16%|█▌        | 16/100 [00:09<00:49,  1.71it/s]\n"
          ]
        },
        {
          "output_type": "stream",
          "name": "stdout",
          "text": [
            "Early stopping at epoch 17\n"
          ]
        },
        {
          "output_type": "stream",
          "name": "stderr",
          "text": [
            " 12%|█▏        | 12/100 [00:06<00:49,  1.79it/s]\n"
          ]
        },
        {
          "output_type": "stream",
          "name": "stdout",
          "text": [
            "Early stopping at epoch 13\n"
          ]
        },
        {
          "output_type": "stream",
          "name": "stderr",
          "text": [
            " 11%|█         | 11/100 [00:06<00:53,  1.67it/s]\n"
          ]
        },
        {
          "output_type": "stream",
          "name": "stdout",
          "text": [
            "Early stopping at epoch 12\n"
          ]
        },
        {
          "output_type": "stream",
          "name": "stderr",
          "text": [
            " 16%|█▌        | 16/100 [00:09<00:49,  1.69it/s]\n"
          ]
        },
        {
          "output_type": "stream",
          "name": "stdout",
          "text": [
            "Early stopping at epoch 17\n"
          ]
        },
        {
          "output_type": "stream",
          "name": "stderr",
          "text": [
            " 10%|█         | 10/100 [00:05<00:46,  1.92it/s]\n"
          ]
        },
        {
          "output_type": "stream",
          "name": "stdout",
          "text": [
            "Early stopping at epoch 11\n"
          ]
        },
        {
          "output_type": "stream",
          "name": "stderr",
          "text": [
            " 14%|█▍        | 14/100 [00:08<00:52,  1.65it/s]\n"
          ]
        },
        {
          "output_type": "stream",
          "name": "stdout",
          "text": [
            "Early stopping at epoch 15\n"
          ]
        },
        {
          "output_type": "stream",
          "name": "stderr",
          "text": [
            " 24%|██▍       | 24/100 [00:13<00:43,  1.74it/s]\n"
          ]
        },
        {
          "output_type": "stream",
          "name": "stdout",
          "text": [
            "Early stopping at epoch 25\n",
            "The final value of the accuracy is 0.7340000000000001\n",
            "The configuration of the model is (9, 256, 2)\n"
          ]
        },
        {
          "output_type": "stream",
          "name": "stderr",
          "text": [
            " 24%|██▍       | 24/100 [00:13<00:42,  1.81it/s]\n"
          ]
        },
        {
          "output_type": "stream",
          "name": "stdout",
          "text": [
            "Early stopping at epoch 25\n"
          ]
        },
        {
          "output_type": "stream",
          "name": "stderr",
          "text": [
            " 37%|███▋      | 37/100 [00:19<00:33,  1.89it/s]\n"
          ]
        },
        {
          "output_type": "stream",
          "name": "stdout",
          "text": [
            "Early stopping at epoch 38\n"
          ]
        },
        {
          "output_type": "stream",
          "name": "stderr",
          "text": [
            " 13%|█▎        | 13/100 [00:08<00:54,  1.61it/s]\n"
          ]
        },
        {
          "output_type": "stream",
          "name": "stdout",
          "text": [
            "Early stopping at epoch 14\n"
          ]
        },
        {
          "output_type": "stream",
          "name": "stderr",
          "text": [
            " 16%|█▌        | 16/100 [00:08<00:43,  1.95it/s]\n"
          ]
        },
        {
          "output_type": "stream",
          "name": "stdout",
          "text": [
            "Early stopping at epoch 17\n"
          ]
        },
        {
          "output_type": "stream",
          "name": "stderr",
          "text": [
            " 14%|█▍        | 14/100 [00:08<00:53,  1.61it/s]\n"
          ]
        },
        {
          "output_type": "stream",
          "name": "stdout",
          "text": [
            "Early stopping at epoch 15\n"
          ]
        },
        {
          "output_type": "stream",
          "name": "stderr",
          "text": [
            " 11%|█         | 11/100 [00:06<00:49,  1.81it/s]\n"
          ]
        },
        {
          "output_type": "stream",
          "name": "stdout",
          "text": [
            "Early stopping at epoch 12\n"
          ]
        },
        {
          "output_type": "stream",
          "name": "stderr",
          "text": [
            " 22%|██▏       | 22/100 [00:12<00:43,  1.81it/s]\n"
          ]
        },
        {
          "output_type": "stream",
          "name": "stdout",
          "text": [
            "Early stopping at epoch 23\n"
          ]
        },
        {
          "output_type": "stream",
          "name": "stderr",
          "text": [
            " 16%|█▌        | 16/100 [00:09<00:49,  1.68it/s]\n"
          ]
        },
        {
          "output_type": "stream",
          "name": "stdout",
          "text": [
            "Early stopping at epoch 17\n"
          ]
        },
        {
          "output_type": "stream",
          "name": "stderr",
          "text": [
            " 16%|█▌        | 16/100 [00:10<00:54,  1.54it/s]\n"
          ]
        },
        {
          "output_type": "stream",
          "name": "stdout",
          "text": [
            "Early stopping at epoch 17\n"
          ]
        },
        {
          "output_type": "stream",
          "name": "stderr",
          "text": [
            " 11%|█         | 11/100 [00:06<00:49,  1.78it/s]\n"
          ]
        },
        {
          "output_type": "stream",
          "name": "stdout",
          "text": [
            "Early stopping at epoch 12\n",
            "The final value of the accuracy is 0.7788\n",
            "The configuration of the model is (9, 4, 4)\n"
          ]
        },
        {
          "output_type": "stream",
          "name": "stderr",
          "text": [
            " 18%|█▊        | 18/100 [00:10<00:47,  1.74it/s]\n"
          ]
        },
        {
          "output_type": "stream",
          "name": "stdout",
          "text": [
            "Early stopping at epoch 19\n"
          ]
        },
        {
          "output_type": "stream",
          "name": "stderr",
          "text": [
            " 10%|█         | 10/100 [00:05<00:46,  1.92it/s]\n"
          ]
        },
        {
          "output_type": "stream",
          "name": "stdout",
          "text": [
            "Early stopping at epoch 11\n"
          ]
        },
        {
          "output_type": "stream",
          "name": "stderr",
          "text": [
            " 10%|█         | 10/100 [00:06<01:00,  1.48it/s]\n"
          ]
        },
        {
          "output_type": "stream",
          "name": "stdout",
          "text": [
            "Early stopping at epoch 11\n"
          ]
        },
        {
          "output_type": "stream",
          "name": "stderr",
          "text": [
            " 16%|█▌        | 16/100 [00:08<00:44,  1.89it/s]\n"
          ]
        },
        {
          "output_type": "stream",
          "name": "stdout",
          "text": [
            "Early stopping at epoch 17\n"
          ]
        },
        {
          "output_type": "stream",
          "name": "stderr",
          "text": [
            " 30%|███       | 30/100 [00:16<00:39,  1.77it/s]\n"
          ]
        },
        {
          "output_type": "stream",
          "name": "stdout",
          "text": [
            "Early stopping at epoch 31\n"
          ]
        },
        {
          "output_type": "stream",
          "name": "stderr",
          "text": [
            " 17%|█▋        | 17/100 [00:08<00:40,  2.03it/s]\n"
          ]
        },
        {
          "output_type": "stream",
          "name": "stdout",
          "text": [
            "Early stopping at epoch 18\n"
          ]
        },
        {
          "output_type": "stream",
          "name": "stderr",
          "text": [
            " 16%|█▌        | 16/100 [00:08<00:45,  1.84it/s]\n"
          ]
        },
        {
          "output_type": "stream",
          "name": "stdout",
          "text": [
            "Early stopping at epoch 17\n"
          ]
        },
        {
          "output_type": "stream",
          "name": "stderr",
          "text": [
            " 21%|██        | 21/100 [00:11<00:42,  1.87it/s]\n"
          ]
        },
        {
          "output_type": "stream",
          "name": "stdout",
          "text": [
            "Early stopping at epoch 22\n"
          ]
        },
        {
          "output_type": "stream",
          "name": "stderr",
          "text": [
            " 28%|██▊       | 28/100 [00:14<00:36,  1.98it/s]\n"
          ]
        },
        {
          "output_type": "stream",
          "name": "stdout",
          "text": [
            "Early stopping at epoch 29\n"
          ]
        },
        {
          "output_type": "stream",
          "name": "stderr",
          "text": [
            " 10%|█         | 10/100 [00:04<00:43,  2.05it/s]\n"
          ]
        },
        {
          "output_type": "stream",
          "name": "stdout",
          "text": [
            "Early stopping at epoch 11\n",
            "The final value of the accuracy is 0.7287999999999999\n",
            "The configuration of the model is (9, 8, 4)\n"
          ]
        },
        {
          "output_type": "stream",
          "name": "stderr",
          "text": [
            " 10%|█         | 10/100 [00:06<00:55,  1.63it/s]\n"
          ]
        },
        {
          "output_type": "stream",
          "name": "stdout",
          "text": [
            "Early stopping at epoch 11\n"
          ]
        },
        {
          "output_type": "stream",
          "name": "stderr",
          "text": [
            " 11%|█         | 11/100 [00:05<00:42,  2.07it/s]\n"
          ]
        },
        {
          "output_type": "stream",
          "name": "stdout",
          "text": [
            "Early stopping at epoch 12\n"
          ]
        },
        {
          "output_type": "stream",
          "name": "stderr",
          "text": [
            " 20%|██        | 20/100 [00:10<00:42,  1.89it/s]\n"
          ]
        },
        {
          "output_type": "stream",
          "name": "stdout",
          "text": [
            "Early stopping at epoch 21\n"
          ]
        },
        {
          "output_type": "stream",
          "name": "stderr",
          "text": [
            " 11%|█         | 11/100 [00:05<00:43,  2.05it/s]\n"
          ]
        },
        {
          "output_type": "stream",
          "name": "stdout",
          "text": [
            "Early stopping at epoch 12\n"
          ]
        },
        {
          "output_type": "stream",
          "name": "stderr",
          "text": [
            " 17%|█▋        | 17/100 [00:09<00:46,  1.77it/s]\n"
          ]
        },
        {
          "output_type": "stream",
          "name": "stdout",
          "text": [
            "Early stopping at epoch 18\n"
          ]
        },
        {
          "output_type": "stream",
          "name": "stderr",
          "text": [
            " 16%|█▌        | 16/100 [00:08<00:46,  1.80it/s]\n"
          ]
        },
        {
          "output_type": "stream",
          "name": "stdout",
          "text": [
            "Early stopping at epoch 17\n"
          ]
        },
        {
          "output_type": "stream",
          "name": "stderr",
          "text": [
            " 12%|█▏        | 12/100 [00:05<00:42,  2.06it/s]\n"
          ]
        },
        {
          "output_type": "stream",
          "name": "stdout",
          "text": [
            "Early stopping at epoch 13\n"
          ]
        },
        {
          "output_type": "stream",
          "name": "stderr",
          "text": [
            " 19%|█▉        | 19/100 [00:10<00:43,  1.86it/s]\n"
          ]
        },
        {
          "output_type": "stream",
          "name": "stdout",
          "text": [
            "Early stopping at epoch 20\n"
          ]
        },
        {
          "output_type": "stream",
          "name": "stderr",
          "text": [
            " 12%|█▏        | 12/100 [00:06<00:44,  1.99it/s]\n"
          ]
        },
        {
          "output_type": "stream",
          "name": "stdout",
          "text": [
            "Early stopping at epoch 13\n"
          ]
        },
        {
          "output_type": "stream",
          "name": "stderr",
          "text": [
            " 10%|█         | 10/100 [00:05<00:53,  1.69it/s]\n"
          ]
        },
        {
          "output_type": "stream",
          "name": "stdout",
          "text": [
            "Early stopping at epoch 11\n",
            "The final value of the accuracy is 0.6419\n",
            "The configuration of the model is (9, 16, 4)\n"
          ]
        },
        {
          "output_type": "stream",
          "name": "stderr",
          "text": [
            " 11%|█         | 11/100 [00:05<00:43,  2.03it/s]\n"
          ]
        },
        {
          "output_type": "stream",
          "name": "stdout",
          "text": [
            "Early stopping at epoch 12\n"
          ]
        },
        {
          "output_type": "stream",
          "name": "stderr",
          "text": [
            " 10%|█         | 10/100 [00:06<00:54,  1.65it/s]\n"
          ]
        },
        {
          "output_type": "stream",
          "name": "stdout",
          "text": [
            "Early stopping at epoch 11\n"
          ]
        },
        {
          "output_type": "stream",
          "name": "stderr",
          "text": [
            " 10%|█         | 10/100 [00:05<00:45,  1.96it/s]\n"
          ]
        },
        {
          "output_type": "stream",
          "name": "stdout",
          "text": [
            "Early stopping at epoch 11\n"
          ]
        },
        {
          "output_type": "stream",
          "name": "stderr",
          "text": [
            " 15%|█▌        | 15/100 [00:09<00:52,  1.62it/s]\n"
          ]
        },
        {
          "output_type": "stream",
          "name": "stdout",
          "text": [
            "Early stopping at epoch 16\n"
          ]
        },
        {
          "output_type": "stream",
          "name": "stderr",
          "text": [
            " 12%|█▏        | 12/100 [00:05<00:43,  2.04it/s]\n"
          ]
        },
        {
          "output_type": "stream",
          "name": "stdout",
          "text": [
            "Early stopping at epoch 13\n"
          ]
        },
        {
          "output_type": "stream",
          "name": "stderr",
          "text": [
            " 21%|██        | 21/100 [00:10<00:40,  1.93it/s]\n"
          ]
        },
        {
          "output_type": "stream",
          "name": "stdout",
          "text": [
            "Early stopping at epoch 22\n"
          ]
        },
        {
          "output_type": "stream",
          "name": "stderr",
          "text": [
            " 11%|█         | 11/100 [00:06<00:52,  1.71it/s]\n"
          ]
        },
        {
          "output_type": "stream",
          "name": "stdout",
          "text": [
            "Early stopping at epoch 12\n"
          ]
        },
        {
          "output_type": "stream",
          "name": "stderr",
          "text": [
            " 11%|█         | 11/100 [00:05<00:43,  2.06it/s]\n"
          ]
        },
        {
          "output_type": "stream",
          "name": "stdout",
          "text": [
            "Early stopping at epoch 12\n"
          ]
        },
        {
          "output_type": "stream",
          "name": "stderr",
          "text": [
            " 20%|██        | 20/100 [00:10<00:41,  1.93it/s]\n"
          ]
        },
        {
          "output_type": "stream",
          "name": "stdout",
          "text": [
            "Early stopping at epoch 21\n"
          ]
        },
        {
          "output_type": "stream",
          "name": "stderr",
          "text": [
            " 18%|█▊        | 18/100 [00:09<00:43,  1.89it/s]\n"
          ]
        },
        {
          "output_type": "stream",
          "name": "stdout",
          "text": [
            "Early stopping at epoch 19\n",
            "The final value of the accuracy is 0.8128000000000001\n",
            "The configuration of the model is (9, 32, 4)\n"
          ]
        },
        {
          "output_type": "stream",
          "name": "stderr",
          "text": [
            " 19%|█▉        | 19/100 [00:08<00:38,  2.12it/s]\n"
          ]
        },
        {
          "output_type": "stream",
          "name": "stdout",
          "text": [
            "Early stopping at epoch 20\n"
          ]
        },
        {
          "output_type": "stream",
          "name": "stderr",
          "text": [
            " 10%|█         | 10/100 [00:05<00:53,  1.69it/s]\n"
          ]
        },
        {
          "output_type": "stream",
          "name": "stdout",
          "text": [
            "Early stopping at epoch 11\n"
          ]
        },
        {
          "output_type": "stream",
          "name": "stderr",
          "text": [
            " 29%|██▉       | 29/100 [00:14<00:35,  2.01it/s]\n"
          ]
        },
        {
          "output_type": "stream",
          "name": "stdout",
          "text": [
            "Early stopping at epoch 30\n"
          ]
        },
        {
          "output_type": "stream",
          "name": "stderr",
          "text": [
            " 13%|█▎        | 13/100 [00:06<00:41,  2.09it/s]\n"
          ]
        },
        {
          "output_type": "stream",
          "name": "stdout",
          "text": [
            "Early stopping at epoch 14\n"
          ]
        },
        {
          "output_type": "stream",
          "name": "stderr",
          "text": [
            " 11%|█         | 11/100 [00:06<00:50,  1.76it/s]\n"
          ]
        },
        {
          "output_type": "stream",
          "name": "stdout",
          "text": [
            "Early stopping at epoch 12\n"
          ]
        },
        {
          "output_type": "stream",
          "name": "stderr",
          "text": [
            " 11%|█         | 11/100 [00:05<00:43,  2.06it/s]\n"
          ]
        },
        {
          "output_type": "stream",
          "name": "stdout",
          "text": [
            "Early stopping at epoch 12\n"
          ]
        },
        {
          "output_type": "stream",
          "name": "stderr",
          "text": [
            " 12%|█▏        | 12/100 [00:07<00:51,  1.69it/s]\n"
          ]
        },
        {
          "output_type": "stream",
          "name": "stdout",
          "text": [
            "Early stopping at epoch 13\n"
          ]
        },
        {
          "output_type": "stream",
          "name": "stderr",
          "text": [
            " 16%|█▌        | 16/100 [00:08<00:42,  1.97it/s]\n"
          ]
        },
        {
          "output_type": "stream",
          "name": "stdout",
          "text": [
            "Early stopping at epoch 17\n"
          ]
        },
        {
          "output_type": "stream",
          "name": "stderr",
          "text": [
            " 12%|█▏        | 12/100 [00:06<00:46,  1.89it/s]\n"
          ]
        },
        {
          "output_type": "stream",
          "name": "stdout",
          "text": [
            "Early stopping at epoch 13\n"
          ]
        },
        {
          "output_type": "stream",
          "name": "stderr",
          "text": [
            " 34%|███▍      | 34/100 [00:16<00:32,  2.02it/s]\n"
          ]
        },
        {
          "output_type": "stream",
          "name": "stdout",
          "text": [
            "Early stopping at epoch 35\n",
            "The final value of the accuracy is 0.7008000000000001\n",
            "The configuration of the model is (9, 64, 4)\n"
          ]
        },
        {
          "output_type": "stream",
          "name": "stderr",
          "text": [
            " 15%|█▌        | 15/100 [00:08<00:46,  1.82it/s]\n"
          ]
        },
        {
          "output_type": "stream",
          "name": "stdout",
          "text": [
            "Early stopping at epoch 16\n"
          ]
        },
        {
          "output_type": "stream",
          "name": "stderr",
          "text": [
            " 29%|██▉       | 29/100 [00:14<00:35,  1.99it/s]\n"
          ]
        },
        {
          "output_type": "stream",
          "name": "stdout",
          "text": [
            "Early stopping at epoch 30\n"
          ]
        },
        {
          "output_type": "stream",
          "name": "stderr",
          "text": [
            " 11%|█         | 11/100 [00:06<00:55,  1.61it/s]\n"
          ]
        },
        {
          "output_type": "stream",
          "name": "stdout",
          "text": [
            "Early stopping at epoch 12\n"
          ]
        },
        {
          "output_type": "stream",
          "name": "stderr",
          "text": [
            " 10%|█         | 10/100 [00:05<00:47,  1.90it/s]\n"
          ]
        },
        {
          "output_type": "stream",
          "name": "stdout",
          "text": [
            "Early stopping at epoch 11\n"
          ]
        },
        {
          "output_type": "stream",
          "name": "stderr",
          "text": [
            " 23%|██▎       | 23/100 [00:12<00:40,  1.88it/s]\n"
          ]
        },
        {
          "output_type": "stream",
          "name": "stdout",
          "text": [
            "Early stopping at epoch 24\n"
          ]
        },
        {
          "output_type": "stream",
          "name": "stderr",
          "text": [
            " 23%|██▎       | 23/100 [00:13<00:44,  1.72it/s]\n"
          ]
        },
        {
          "output_type": "stream",
          "name": "stdout",
          "text": [
            "Early stopping at epoch 24\n"
          ]
        },
        {
          "output_type": "stream",
          "name": "stderr",
          "text": [
            " 13%|█▎        | 13/100 [00:06<00:43,  2.00it/s]\n"
          ]
        },
        {
          "output_type": "stream",
          "name": "stdout",
          "text": [
            "Early stopping at epoch 14\n"
          ]
        },
        {
          "output_type": "stream",
          "name": "stderr",
          "text": [
            " 18%|█▊        | 18/100 [00:09<00:44,  1.82it/s]\n"
          ]
        },
        {
          "output_type": "stream",
          "name": "stdout",
          "text": [
            "Early stopping at epoch 19\n"
          ]
        },
        {
          "output_type": "stream",
          "name": "stderr",
          "text": [
            " 10%|█         | 10/100 [00:06<00:56,  1.60it/s]\n"
          ]
        },
        {
          "output_type": "stream",
          "name": "stdout",
          "text": [
            "Early stopping at epoch 11\n"
          ]
        },
        {
          "output_type": "stream",
          "name": "stderr",
          "text": [
            " 16%|█▌        | 16/100 [00:08<00:43,  1.95it/s]\n"
          ]
        },
        {
          "output_type": "stream",
          "name": "stdout",
          "text": [
            "Early stopping at epoch 17\n",
            "The final value of the accuracy is 0.7293000000000001\n",
            "The configuration of the model is (9, 128, 4)\n"
          ]
        },
        {
          "output_type": "stream",
          "name": "stderr",
          "text": [
            " 14%|█▍        | 14/100 [00:08<00:49,  1.73it/s]\n"
          ]
        },
        {
          "output_type": "stream",
          "name": "stdout",
          "text": [
            "Early stopping at epoch 15\n"
          ]
        },
        {
          "output_type": "stream",
          "name": "stderr",
          "text": [
            " 11%|█         | 11/100 [00:05<00:45,  1.98it/s]\n"
          ]
        },
        {
          "output_type": "stream",
          "name": "stdout",
          "text": [
            "Early stopping at epoch 12\n"
          ]
        },
        {
          "output_type": "stream",
          "name": "stderr",
          "text": [
            " 22%|██▏       | 22/100 [00:11<00:41,  1.89it/s]\n"
          ]
        },
        {
          "output_type": "stream",
          "name": "stdout",
          "text": [
            "Early stopping at epoch 23\n"
          ]
        },
        {
          "output_type": "stream",
          "name": "stderr",
          "text": [
            " 12%|█▏        | 12/100 [00:07<00:51,  1.70it/s]\n"
          ]
        },
        {
          "output_type": "stream",
          "name": "stdout",
          "text": [
            "Early stopping at epoch 13\n"
          ]
        },
        {
          "output_type": "stream",
          "name": "stderr",
          "text": [
            " 20%|██        | 20/100 [00:09<00:38,  2.09it/s]\n"
          ]
        },
        {
          "output_type": "stream",
          "name": "stdout",
          "text": [
            "Early stopping at epoch 21\n"
          ]
        },
        {
          "output_type": "stream",
          "name": "stderr",
          "text": [
            " 11%|█         | 11/100 [00:06<00:53,  1.66it/s]\n"
          ]
        },
        {
          "output_type": "stream",
          "name": "stdout",
          "text": [
            "Early stopping at epoch 12\n"
          ]
        },
        {
          "output_type": "stream",
          "name": "stderr",
          "text": [
            " 14%|█▍        | 14/100 [00:07<00:44,  1.95it/s]\n"
          ]
        },
        {
          "output_type": "stream",
          "name": "stdout",
          "text": [
            "Early stopping at epoch 15\n"
          ]
        },
        {
          "output_type": "stream",
          "name": "stderr",
          "text": [
            " 13%|█▎        | 13/100 [00:06<00:46,  1.87it/s]\n"
          ]
        },
        {
          "output_type": "stream",
          "name": "stdout",
          "text": [
            "Early stopping at epoch 14\n"
          ]
        },
        {
          "output_type": "stream",
          "name": "stderr",
          "text": [
            " 12%|█▏        | 12/100 [00:06<00:48,  1.81it/s]\n"
          ]
        },
        {
          "output_type": "stream",
          "name": "stdout",
          "text": [
            "Early stopping at epoch 13\n"
          ]
        },
        {
          "output_type": "stream",
          "name": "stderr",
          "text": [
            " 13%|█▎        | 13/100 [00:06<00:45,  1.93it/s]\n"
          ]
        },
        {
          "output_type": "stream",
          "name": "stdout",
          "text": [
            "Early stopping at epoch 14\n",
            "The final value of the accuracy is 0.8197\n",
            "The configuration of the model is (9, 256, 4)\n"
          ]
        },
        {
          "output_type": "stream",
          "name": "stderr",
          "text": [
            " 12%|█▏        | 12/100 [00:06<00:50,  1.73it/s]\n"
          ]
        },
        {
          "output_type": "stream",
          "name": "stdout",
          "text": [
            "Early stopping at epoch 13\n"
          ]
        },
        {
          "output_type": "stream",
          "name": "stderr",
          "text": [
            " 13%|█▎        | 13/100 [00:06<00:43,  2.00it/s]\n"
          ]
        },
        {
          "output_type": "stream",
          "name": "stdout",
          "text": [
            "Early stopping at epoch 14\n"
          ]
        },
        {
          "output_type": "stream",
          "name": "stderr",
          "text": [
            " 10%|█         | 10/100 [00:05<00:50,  1.78it/s]\n"
          ]
        },
        {
          "output_type": "stream",
          "name": "stdout",
          "text": [
            "Early stopping at epoch 11\n"
          ]
        },
        {
          "output_type": "stream",
          "name": "stderr",
          "text": [
            " 11%|█         | 11/100 [00:05<00:46,  1.90it/s]\n"
          ]
        },
        {
          "output_type": "stream",
          "name": "stdout",
          "text": [
            "Early stopping at epoch 12\n"
          ]
        },
        {
          "output_type": "stream",
          "name": "stderr",
          "text": [
            " 15%|█▌        | 15/100 [00:08<00:47,  1.77it/s]\n"
          ]
        },
        {
          "output_type": "stream",
          "name": "stdout",
          "text": [
            "Early stopping at epoch 16\n"
          ]
        },
        {
          "output_type": "stream",
          "name": "stderr",
          "text": [
            " 14%|█▍        | 14/100 [00:06<00:41,  2.08it/s]\n"
          ]
        },
        {
          "output_type": "stream",
          "name": "stdout",
          "text": [
            "Early stopping at epoch 15\n"
          ]
        },
        {
          "output_type": "stream",
          "name": "stderr",
          "text": [
            " 16%|█▌        | 16/100 [00:08<00:45,  1.86it/s]\n"
          ]
        },
        {
          "output_type": "stream",
          "name": "stdout",
          "text": [
            "Early stopping at epoch 17\n"
          ]
        },
        {
          "output_type": "stream",
          "name": "stderr",
          "text": [
            " 22%|██▏       | 22/100 [00:11<00:40,  1.92it/s]\n"
          ]
        },
        {
          "output_type": "stream",
          "name": "stdout",
          "text": [
            "Early stopping at epoch 23\n"
          ]
        },
        {
          "output_type": "stream",
          "name": "stderr",
          "text": [
            " 10%|█         | 10/100 [00:04<00:44,  2.01it/s]\n"
          ]
        },
        {
          "output_type": "stream",
          "name": "stdout",
          "text": [
            "Early stopping at epoch 11\n"
          ]
        },
        {
          "output_type": "stream",
          "name": "stderr",
          "text": [
            " 16%|█▌        | 16/100 [00:08<00:46,  1.82it/s]\n"
          ]
        },
        {
          "output_type": "stream",
          "name": "stdout",
          "text": [
            "Early stopping at epoch 17\n",
            "The final value of the accuracy is 0.7382000000000001\n",
            "The configuration of the model is (9, 8, 8)\n"
          ]
        },
        {
          "output_type": "stream",
          "name": "stderr",
          "text": [
            " 26%|██▌       | 26/100 [00:14<00:41,  1.79it/s]\n"
          ]
        },
        {
          "output_type": "stream",
          "name": "stdout",
          "text": [
            "Early stopping at epoch 27\n"
          ]
        },
        {
          "output_type": "stream",
          "name": "stderr",
          "text": [
            " 17%|█▋        | 17/100 [00:08<00:41,  2.00it/s]\n"
          ]
        },
        {
          "output_type": "stream",
          "name": "stdout",
          "text": [
            "Early stopping at epoch 18\n"
          ]
        },
        {
          "output_type": "stream",
          "name": "stderr",
          "text": [
            " 10%|█         | 10/100 [00:05<00:50,  1.79it/s]\n"
          ]
        },
        {
          "output_type": "stream",
          "name": "stdout",
          "text": [
            "Early stopping at epoch 11\n"
          ]
        },
        {
          "output_type": "stream",
          "name": "stderr",
          "text": [
            " 13%|█▎        | 13/100 [00:06<00:41,  2.09it/s]\n"
          ]
        },
        {
          "output_type": "stream",
          "name": "stdout",
          "text": [
            "Early stopping at epoch 14\n"
          ]
        },
        {
          "output_type": "stream",
          "name": "stderr",
          "text": [
            " 10%|█         | 10/100 [00:06<00:55,  1.63it/s]\n"
          ]
        },
        {
          "output_type": "stream",
          "name": "stdout",
          "text": [
            "Early stopping at epoch 11\n"
          ]
        },
        {
          "output_type": "stream",
          "name": "stderr",
          "text": [
            " 15%|█▌        | 15/100 [00:07<00:41,  2.06it/s]\n"
          ]
        },
        {
          "output_type": "stream",
          "name": "stdout",
          "text": [
            "Early stopping at epoch 16\n"
          ]
        },
        {
          "output_type": "stream",
          "name": "stderr",
          "text": [
            " 16%|█▌        | 16/100 [00:08<00:44,  1.89it/s]\n"
          ]
        },
        {
          "output_type": "stream",
          "name": "stdout",
          "text": [
            "Early stopping at epoch 17\n"
          ]
        },
        {
          "output_type": "stream",
          "name": "stderr",
          "text": [
            " 18%|█▊        | 18/100 [00:09<00:43,  1.89it/s]\n"
          ]
        },
        {
          "output_type": "stream",
          "name": "stdout",
          "text": [
            "Early stopping at epoch 19\n"
          ]
        },
        {
          "output_type": "stream",
          "name": "stderr",
          "text": [
            " 15%|█▌        | 15/100 [00:07<00:41,  2.04it/s]\n"
          ]
        },
        {
          "output_type": "stream",
          "name": "stdout",
          "text": [
            "Early stopping at epoch 16\n"
          ]
        },
        {
          "output_type": "stream",
          "name": "stderr",
          "text": [
            " 21%|██        | 21/100 [00:10<00:40,  1.94it/s]\n"
          ]
        },
        {
          "output_type": "stream",
          "name": "stdout",
          "text": [
            "Early stopping at epoch 22\n",
            "The final value of the accuracy is 0.7757999999999999\n",
            "The configuration of the model is (9, 16, 8)\n"
          ]
        },
        {
          "output_type": "stream",
          "name": "stderr",
          "text": [
            " 12%|█▏        | 12/100 [00:06<00:50,  1.76it/s]\n"
          ]
        },
        {
          "output_type": "stream",
          "name": "stdout",
          "text": [
            "Early stopping at epoch 13\n"
          ]
        },
        {
          "output_type": "stream",
          "name": "stderr",
          "text": [
            " 12%|█▏        | 12/100 [00:05<00:41,  2.10it/s]\n"
          ]
        },
        {
          "output_type": "stream",
          "name": "stdout",
          "text": [
            "Early stopping at epoch 13\n"
          ]
        },
        {
          "output_type": "stream",
          "name": "stderr",
          "text": [
            " 11%|█         | 11/100 [00:06<00:50,  1.76it/s]\n"
          ]
        },
        {
          "output_type": "stream",
          "name": "stdout",
          "text": [
            "Early stopping at epoch 12\n"
          ]
        },
        {
          "output_type": "stream",
          "name": "stderr",
          "text": [
            " 11%|█         | 11/100 [00:05<00:42,  2.08it/s]\n"
          ]
        },
        {
          "output_type": "stream",
          "name": "stdout",
          "text": [
            "Early stopping at epoch 12\n"
          ]
        },
        {
          "output_type": "stream",
          "name": "stderr",
          "text": [
            " 10%|█         | 10/100 [00:05<00:47,  1.90it/s]\n"
          ]
        },
        {
          "output_type": "stream",
          "name": "stdout",
          "text": [
            "Early stopping at epoch 11\n"
          ]
        },
        {
          "output_type": "stream",
          "name": "stderr",
          "text": [
            " 11%|█         | 11/100 [00:06<00:48,  1.83it/s]\n"
          ]
        },
        {
          "output_type": "stream",
          "name": "stdout",
          "text": [
            "Early stopping at epoch 12\n"
          ]
        },
        {
          "output_type": "stream",
          "name": "stderr",
          "text": [
            " 11%|█         | 11/100 [00:05<00:45,  1.96it/s]\n"
          ]
        },
        {
          "output_type": "stream",
          "name": "stdout",
          "text": [
            "Early stopping at epoch 12\n"
          ]
        },
        {
          "output_type": "stream",
          "name": "stderr",
          "text": [
            " 11%|█         | 11/100 [00:06<00:52,  1.70it/s]\n"
          ]
        },
        {
          "output_type": "stream",
          "name": "stdout",
          "text": [
            "Early stopping at epoch 12\n"
          ]
        },
        {
          "output_type": "stream",
          "name": "stderr",
          "text": [
            " 15%|█▌        | 15/100 [00:07<00:42,  2.00it/s]\n"
          ]
        },
        {
          "output_type": "stream",
          "name": "stdout",
          "text": [
            "Early stopping at epoch 16\n"
          ]
        },
        {
          "output_type": "stream",
          "name": "stderr",
          "text": [
            " 11%|█         | 11/100 [00:06<00:48,  1.82it/s]\n"
          ]
        },
        {
          "output_type": "stream",
          "name": "stdout",
          "text": [
            "Early stopping at epoch 12\n",
            "The final value of the accuracy is 0.7381\n",
            "The configuration of the model is (9, 32, 8)\n"
          ]
        },
        {
          "output_type": "stream",
          "name": "stderr",
          "text": [
            " 14%|█▍        | 14/100 [00:07<00:44,  1.93it/s]\n"
          ]
        },
        {
          "output_type": "stream",
          "name": "stdout",
          "text": [
            "Early stopping at epoch 15\n"
          ]
        },
        {
          "output_type": "stream",
          "name": "stderr",
          "text": [
            " 16%|█▌        | 16/100 [00:08<00:42,  1.98it/s]\n"
          ]
        },
        {
          "output_type": "stream",
          "name": "stdout",
          "text": [
            "Early stopping at epoch 17\n"
          ]
        },
        {
          "output_type": "stream",
          "name": "stderr",
          "text": [
            " 20%|██        | 20/100 [00:10<00:41,  1.93it/s]\n"
          ]
        },
        {
          "output_type": "stream",
          "name": "stdout",
          "text": [
            "Early stopping at epoch 21\n"
          ]
        },
        {
          "output_type": "stream",
          "name": "stderr",
          "text": [
            " 17%|█▋        | 17/100 [00:09<00:45,  1.81it/s]\n"
          ]
        },
        {
          "output_type": "stream",
          "name": "stdout",
          "text": [
            "Early stopping at epoch 18\n"
          ]
        },
        {
          "output_type": "stream",
          "name": "stderr",
          "text": [
            " 11%|█         | 11/100 [00:05<00:43,  2.06it/s]\n"
          ]
        },
        {
          "output_type": "stream",
          "name": "stdout",
          "text": [
            "Early stopping at epoch 12\n"
          ]
        },
        {
          "output_type": "stream",
          "name": "stderr",
          "text": [
            " 17%|█▋        | 17/100 [00:08<00:43,  1.90it/s]\n"
          ]
        },
        {
          "output_type": "stream",
          "name": "stdout",
          "text": [
            "Early stopping at epoch 18\n"
          ]
        },
        {
          "output_type": "stream",
          "name": "stderr",
          "text": [
            " 16%|█▌        | 16/100 [00:07<00:39,  2.13it/s]\n"
          ]
        },
        {
          "output_type": "stream",
          "name": "stdout",
          "text": [
            "Early stopping at epoch 17\n"
          ]
        },
        {
          "output_type": "stream",
          "name": "stderr",
          "text": [
            " 23%|██▎       | 23/100 [00:12<00:42,  1.82it/s]\n"
          ]
        },
        {
          "output_type": "stream",
          "name": "stdout",
          "text": [
            "Early stopping at epoch 24\n"
          ]
        },
        {
          "output_type": "stream",
          "name": "stderr",
          "text": [
            " 15%|█▌        | 15/100 [00:08<00:46,  1.83it/s]\n"
          ]
        },
        {
          "output_type": "stream",
          "name": "stdout",
          "text": [
            "Early stopping at epoch 16\n"
          ]
        },
        {
          "output_type": "stream",
          "name": "stderr",
          "text": [
            " 12%|█▏        | 12/100 [00:06<00:45,  1.94it/s]\n"
          ]
        },
        {
          "output_type": "stream",
          "name": "stdout",
          "text": [
            "Early stopping at epoch 13\n",
            "The final value of the accuracy is 0.7733\n",
            "The configuration of the model is (9, 64, 8)\n"
          ]
        },
        {
          "output_type": "stream",
          "name": "stderr",
          "text": [
            " 13%|█▎        | 13/100 [00:07<00:47,  1.82it/s]\n"
          ]
        },
        {
          "output_type": "stream",
          "name": "stdout",
          "text": [
            "Early stopping at epoch 14\n"
          ]
        },
        {
          "output_type": "stream",
          "name": "stderr",
          "text": [
            " 12%|█▏        | 12/100 [00:06<00:47,  1.84it/s]\n"
          ]
        },
        {
          "output_type": "stream",
          "name": "stdout",
          "text": [
            "Early stopping at epoch 13\n"
          ]
        },
        {
          "output_type": "stream",
          "name": "stderr",
          "text": [
            " 15%|█▌        | 15/100 [00:07<00:43,  1.97it/s]\n"
          ]
        },
        {
          "output_type": "stream",
          "name": "stdout",
          "text": [
            "Early stopping at epoch 16\n"
          ]
        },
        {
          "output_type": "stream",
          "name": "stderr",
          "text": [
            " 14%|█▍        | 14/100 [00:07<00:47,  1.82it/s]\n"
          ]
        },
        {
          "output_type": "stream",
          "name": "stdout",
          "text": [
            "Early stopping at epoch 15\n"
          ]
        },
        {
          "output_type": "stream",
          "name": "stderr",
          "text": [
            " 11%|█         | 11/100 [00:05<00:43,  2.06it/s]\n"
          ]
        },
        {
          "output_type": "stream",
          "name": "stdout",
          "text": [
            "Early stopping at epoch 12\n"
          ]
        },
        {
          "output_type": "stream",
          "name": "stderr",
          "text": [
            " 19%|█▉        | 19/100 [00:09<00:42,  1.91it/s]\n"
          ]
        },
        {
          "output_type": "stream",
          "name": "stdout",
          "text": [
            "Early stopping at epoch 20\n"
          ]
        },
        {
          "output_type": "stream",
          "name": "stderr",
          "text": [
            " 10%|█         | 10/100 [00:04<00:43,  2.05it/s]\n"
          ]
        },
        {
          "output_type": "stream",
          "name": "stdout",
          "text": [
            "Early stopping at epoch 11\n"
          ]
        },
        {
          "output_type": "stream",
          "name": "stderr",
          "text": [
            " 10%|█         | 10/100 [00:06<00:54,  1.66it/s]\n"
          ]
        },
        {
          "output_type": "stream",
          "name": "stdout",
          "text": [
            "Early stopping at epoch 11\n"
          ]
        },
        {
          "output_type": "stream",
          "name": "stderr",
          "text": [
            " 12%|█▏        | 12/100 [00:06<00:44,  1.96it/s]\n"
          ]
        },
        {
          "output_type": "stream",
          "name": "stdout",
          "text": [
            "Early stopping at epoch 13\n"
          ]
        },
        {
          "output_type": "stream",
          "name": "stderr",
          "text": [
            " 18%|█▊        | 18/100 [00:09<00:44,  1.85it/s]\n"
          ]
        },
        {
          "output_type": "stream",
          "name": "stdout",
          "text": [
            "Early stopping at epoch 19\n",
            "The final value of the accuracy is 0.8171\n",
            "The configuration of the model is (9, 128, 8)\n"
          ]
        },
        {
          "output_type": "stream",
          "name": "stderr",
          "text": [
            " 12%|█▏        | 12/100 [00:05<00:44,  1.98it/s]"
          ]
        }
      ]
    },
    {
      "cell_type": "code",
      "source": [
        "means"
      ],
      "metadata": {
        "id": "RneFyxP7qemw"
      },
      "execution_count": null,
      "outputs": []
    },
    {
      "cell_type": "markdown",
      "source": [
        "## Training"
      ],
      "metadata": {
        "id": "IXOXOBDCKaie"
      }
    },
    {
      "cell_type": "code",
      "source": [
        "transform = T.Compose([\n",
        "    T.NormalizeFeatures(),\n",
        "    T.ToDevice(device),\n",
        "    T.RandomLinkSplit(num_val=0.05, num_test=0.1, is_undirected=True,\n",
        "                      add_negative_train_samples=False),\n",
        "])\n",
        "\n",
        "dataset = Planetoid(\"./data/\", name='PubMed', transform=transform)\n",
        "\n",
        "# After applying the `RandomLinkSplit` transform, the data is transformed from\n",
        "# a data object to a list of tuples (train_data, val_data, test_data), with\n",
        "# each element representing the corresponding split.\n",
        "\n",
        "train_data, val_data, test_data = dataset[0]"
      ],
      "metadata": {
        "id": "xLVclfNYk-bi"
      },
      "execution_count": 10,
      "outputs": []
    },
    {
      "cell_type": "code",
      "source": [
        "print(dir(dataset))"
      ],
      "metadata": {
        "colab": {
          "base_uri": "https://localhost:8080/"
        },
        "id": "vkKYFN-DgsVu",
        "outputId": "dd4d1e9a-1102-41b2-aaa2-8904639e3852"
      },
      "execution_count": 11,
      "outputs": [
        {
          "output_type": "stream",
          "name": "stdout",
          "text": [
            "['__add__', '__annotations__', '__class__', '__class_getitem__', '__delattr__', '__dict__', '__dir__', '__doc__', '__eq__', '__format__', '__ge__', '__getattr__', '__getattribute__', '__getitem__', '__gt__', '__hash__', '__init__', '__init_subclass__', '__iter__', '__le__', '__len__', '__lt__', '__module__', '__ne__', '__new__', '__orig_bases__', '__parameters__', '__reduce__', '__reduce_ex__', '__repr__', '__setattr__', '__sizeof__', '__slots__', '__str__', '__subclasshook__', '__weakref__', '_data', '_data_list', '_download', '_indices', '_infer_num_classes', '_is_protocol', '_process', 'collate', 'copy', 'cpu', 'cuda', 'data', 'download', 'force_reload', 'geom_gcn_url', 'get', 'get_summary', 'has_download', 'has_process', 'index_select', 'indices', 'len', 'load', 'log', 'name', 'num_classes', 'num_edge_features', 'num_features', 'num_node_features', 'pre_filter', 'pre_transform', 'print_summary', 'process', 'processed_dir', 'processed_file_names', 'processed_paths', 'raw_dir', 'raw_file_names', 'raw_paths', 'root', 'save', 'shuffle', 'slices', 'split', 'to', 'to_datapipe', 'to_on_disk_dataset', 'transform', 'url']\n"
          ]
        }
      ]
    },
    {
      "cell_type": "code",
      "source": [
        "print(dataset)\n",
        "print(\"number of graphs:\\t\\t\",len(dataset)) # A dataset is a collection of graphs (one in this case)\n",
        "print(\"number of classes:\\t\\t\",dataset.num_classes) # Node labels for node classification\n",
        "print(\"number of node features:\\t\",dataset.num_node_features)\n",
        "print(\"number of edge features:\\t\",dataset.num_edge_features)"
      ],
      "metadata": {
        "colab": {
          "base_uri": "https://localhost:8080/"
        },
        "id": "KWams34imUlw",
        "outputId": "f013faa2-20b0-416b-980a-128899de74db"
      },
      "execution_count": 12,
      "outputs": [
        {
          "output_type": "stream",
          "name": "stdout",
          "text": [
            "PubMed()\n",
            "number of graphs:\t\t 1\n",
            "number of classes:\t\t 3\n",
            "number of node features:\t 500\n",
            "number of edge features:\t 0\n"
          ]
        }
      ]
    },
    {
      "cell_type": "code",
      "source": [
        "print(\"edge_index:\\t\\t\",dataset.data.edge_index.shape) # edge list, shape (2, #edges)\n",
        "print(dataset.data.edge_index)\n",
        "print(\"\\n\")\n",
        "print(\"train_mask:\\t\\t\",dataset.data.train_mask.shape)\n",
        "print(dataset.data.train_mask)\n",
        "print(\"\\n\")\n",
        "print(\"x:\\t\\t\",dataset.data.x.shape) # node feature matrix, shape (#nodes, #feature)\n",
        "print(dataset.data.x)\n",
        "print(\"\\n\")\n",
        "print(\"y:\\t\\t\",dataset.data.y.shape) # node labels, shape (#nodes)\n",
        "print(dataset.data.y)"
      ],
      "metadata": {
        "colab": {
          "base_uri": "https://localhost:8080/"
        },
        "id": "jXmzEip1nVs1",
        "outputId": "d5b3a89f-378c-4be2-c205-d885993acbf3"
      },
      "execution_count": 13,
      "outputs": [
        {
          "output_type": "stream",
          "name": "stdout",
          "text": [
            "edge_index:\t\t torch.Size([2, 88648])\n",
            "tensor([[ 1378,  1544,  6092,  ..., 12278,  4284, 16030],\n",
            "        [    0,     0,     0,  ..., 19714, 19715, 19716]])\n",
            "\n",
            "\n",
            "train_mask:\t\t torch.Size([19717])\n",
            "tensor([ True,  True,  True,  ..., False, False, False])\n",
            "\n",
            "\n",
            "x:\t\t torch.Size([19717, 500])\n",
            "tensor([[0.0000, 0.0000, 0.0000,  ..., 0.0000, 0.0000, 0.0000],\n",
            "        [0.0000, 0.0000, 0.0000,  ..., 0.0000, 0.0000, 0.0000],\n",
            "        [0.1046, 0.0000, 0.0000,  ..., 0.0000, 0.0000, 0.0000],\n",
            "        ...,\n",
            "        [0.0000, 0.0194, 0.0080,  ..., 0.0000, 0.0000, 0.0000],\n",
            "        [0.1078, 0.0000, 0.0000,  ..., 0.0000, 0.0000, 0.0000],\n",
            "        [0.0000, 0.0266, 0.0000,  ..., 0.0000, 0.0000, 0.0000]])\n",
            "\n",
            "\n",
            "y:\t\t torch.Size([19717])\n",
            "tensor([1, 1, 0,  ..., 2, 0, 2])\n"
          ]
        },
        {
          "output_type": "stream",
          "name": "stderr",
          "text": [
            "/usr/local/lib/python3.10/dist-packages/torch_geometric/data/in_memory_dataset.py:300: UserWarning: It is not recommended to directly access the internal storage format `data` of an 'InMemoryDataset'. If you are absolutely certain what you are doing, access the internal storage via `InMemoryDataset._data` instead to suppress this warning. Alternatively, you can access stacked individual attributes of every graph via `dataset.{attr_name}`.\n",
            "  warnings.warn(msg)\n"
          ]
        }
      ]
    },
    {
      "cell_type": "code",
      "source": [
        "print(train_data.keys())"
      ],
      "metadata": {
        "colab": {
          "base_uri": "https://localhost:8080/"
        },
        "id": "YExGkHFue4ki",
        "outputId": "7cbea3e1-1dfc-4464-d2e3-c487c4a11dc6"
      },
      "execution_count": 14,
      "outputs": [
        {
          "output_type": "stream",
          "name": "stdout",
          "text": [
            "['test_mask', 'edge_index', 'val_mask', 'edge_label_index', 'x', 'y', 'edge_label', 'train_mask']\n"
          ]
        }
      ]
    },
    {
      "cell_type": "code",
      "source": [
        "test_data.edge_label_index.shape"
      ],
      "metadata": {
        "colab": {
          "base_uri": "https://localhost:8080/"
        },
        "id": "fdmRhWu_hjjK",
        "outputId": "72871b03-368d-4351-c2f0-32bb6348a8ed"
      },
      "execution_count": 15,
      "outputs": [
        {
          "output_type": "execute_result",
          "data": {
            "text/plain": [
              "torch.Size([2, 8864])"
            ]
          },
          "metadata": {},
          "execution_count": 15
        }
      ]
    },
    {
      "cell_type": "code",
      "source": [
        "class Net(torch.nn.Module):\n",
        "    def __init__(self, in_channels, hidden_channels, out_channels):\n",
        "        super().__init__()\n",
        "        ## Check cached option for transductive learning\n",
        "        self.conv1 = GCNConv(in_channels, hidden_channels)\n",
        "        self.conv2 = GCNConv(hidden_channels, out_channels)\n",
        "\n",
        "    def encode(self, x, edge_index):\n",
        "        x = self.conv1(x, edge_index).relu()\n",
        "        z = self.conv2(x, edge_index)\n",
        "        return z\n",
        "\n",
        "    def decode(self, z, edge_label_index):\n",
        "        return (z[edge_label_index[0]] * z[edge_label_index[1]]).sum(dim=-1)\n",
        "\n",
        "    def decode_all(self, z):\n",
        "        prob_adj = z @ z.t()\n",
        "        return (prob_adj > 0).nonzero(as_tuple=False).t()"
      ],
      "metadata": {
        "id": "bqDcCq2wo7Ib"
      },
      "execution_count": 16,
      "outputs": []
    },
    {
      "cell_type": "code",
      "source": [
        "model = Net(dataset.num_features, 128, 64).to(device)\n",
        "optimizer = torch.optim.Adam(params=model.parameters(), lr=0.01)\n",
        "criterion = torch.nn.BCEWithLogitsLoss()"
      ],
      "metadata": {
        "id": "mTX_rV8TurxX"
      },
      "execution_count": 17,
      "outputs": []
    },
    {
      "cell_type": "markdown",
      "source": [
        "train_data.edge_label_index is the first half of the train_data.edge_index tensor (!)"
      ],
      "metadata": {
        "id": "mK5K49yh932n"
      }
    },
    {
      "cell_type": "code",
      "source": [],
      "metadata": {
        "id": "0WZlgeiRt_hX"
      },
      "execution_count": 32,
      "outputs": []
    },
    {
      "cell_type": "code",
      "source": [
        "compareEdgeLists(val_data.edge_label_index, test_data.edge_label_index)"
      ],
      "metadata": {
        "colab": {
          "base_uri": "https://localhost:8080/"
        },
        "id": "L9Dv8psTtgLw",
        "outputId": "9a7289ac-0c65-458a-cae7-164ed34e9d8b"
      },
      "execution_count": 40,
      "outputs": [
        {
          "output_type": "execute_result",
          "data": {
            "text/plain": [
              "(4432, 8864)"
            ]
          },
          "metadata": {},
          "execution_count": 40
        }
      ]
    },
    {
      "cell_type": "code",
      "source": [
        "def train():\n",
        "    model.train()\n",
        "    optimizer.zero_grad()\n",
        "\n",
        "    # Encoding\n",
        "    # This is where the message passing happens within the GNN model\n",
        "    #x = torch.eye(100, dtype=torch.float, device=device)\n",
        "\n",
        "    z = model.encode(train_data.x, train_data.edge_index)\n",
        "    #print(f\"train_data.edge_index.shape = {train_data.edge_index.shape}\")\n",
        "    #print(f\"z.shape = {z.shape}\")\n",
        "\n",
        "    \"\"\" We perform a new round of negative sampling for every training epoch \"\"\"\n",
        "    # Negative sampling: read https://datafireball.com/2023/07/15/torch_geometric-negative-sampling/\n",
        "    # neg_edge_index has shape (2, #training_edges/2)\n",
        "    # How does it work? Does it sample from the pairs of nodes that **probably** are not edges? (Yes)\n",
        "    neg_edge_index = negative_sampling(\n",
        "        edge_index=train_data.edge_index, num_nodes=train_data.num_nodes,\n",
        "        num_neg_samples=train_data.edge_label_index.size(1), method='sparse')\n",
        "    #print(f\"neg_edge_index.shape = {neg_edge_index.shape}\")\n",
        "    #print(f\"train_data.edge_label_index.shape = {train_data.edge_label_index.shape}\")\n",
        "\n",
        "    # Edge label index = Positive Examples (fixed?) U Negative Examples (sampled)\n",
        "    edge_label_index = torch.cat(\n",
        "        [train_data.edge_label_index, neg_edge_index],\n",
        "        dim=-1,\n",
        "    )\n",
        "    #print(f\"edge_label_index.shape = {edge_label_index.shape}\")\n",
        "    #print(edge_label_index)\n",
        "\n",
        "    edge_label = torch.cat([\n",
        "        train_data.edge_label,\n",
        "        train_data.edge_label.new_zeros(neg_edge_index.size(1))\n",
        "    ], dim=0)\n",
        "    print(f\"edge_label.shape = {edge_label.shape}\")\n",
        "\n",
        "    # Decoding\n",
        "    out = model.decode(z, edge_label_index).view(-1)\n",
        "    #print(out)\n",
        "    #print(edge_label)\n",
        "    #print(f\"out.shape = {out.shape}\")\n",
        "\n",
        "    loss = criterion(out, edge_label)\n",
        "    loss.backward()\n",
        "    optimizer.step()\n",
        "\n",
        "    return loss"
      ],
      "metadata": {
        "id": "LGKHOtAsuuZz"
      },
      "execution_count": 83,
      "outputs": []
    },
    {
      "cell_type": "code",
      "source": [
        "train()"
      ],
      "metadata": {
        "colab": {
          "base_uri": "https://localhost:8080/"
        },
        "id": "ZolQ9Ea3dHcp",
        "outputId": "966f714c-09d6-4ec7-ab18-6cdbd6fe999a"
      },
      "execution_count": 84,
      "outputs": [
        {
          "output_type": "stream",
          "name": "stdout",
          "text": [
            "z.shape = torch.Size([19717, 64])\n",
            "edge_label.shape = torch.Size([75352])\n"
          ]
        },
        {
          "output_type": "execute_result",
          "data": {
            "text/plain": [
              "tensor(0.4472, device='cuda:0',\n",
              "       grad_fn=<BinaryCrossEntropyWithLogitsBackward0>)"
            ]
          },
          "metadata": {},
          "execution_count": 84
        }
      ]
    },
    {
      "cell_type": "code",
      "source": [
        "def train():\n",
        "    model.train()\n",
        "    optimizer.zero_grad()\n",
        "\n",
        "    # Encoding\n",
        "    z = model.encode(train_data.x, train_data.edge_index)\n",
        "\n",
        "    neg_edge_index = negative_sampling(\n",
        "        edge_index=train_data.edge_index, num_nodes=train_data.num_nodes,\n",
        "        num_neg_samples=train_data.edge_label_index.size(1), method='sparse')\n",
        "    edge_label_index = torch.cat(\n",
        "        [train_data.edge_label_index, neg_edge_index], dim=-1)\n",
        "    edge_label = torch.cat([\n",
        "        train_data.edge_label,\n",
        "        train_data.edge_label.new_zeros(neg_edge_index.size(1))\n",
        "        ], dim=0)\n",
        "\n",
        "    # Shuffling\n",
        "    shuffle = torch.randperm(edge_label_index.size(1))\n",
        "    edge_label_index = edge_label_index[:, shuffle]\n",
        "    edge_label = edge_label[shuffle]\n",
        "\n",
        "    # Decoding\n",
        "    out = model.decode(z, edge_label_index).view(-1)\n",
        "    loss = criterion(out, edge_label)\n",
        "    loss.backward()\n",
        "    optimizer.step()\n",
        "\n",
        "    return loss\n"
      ],
      "metadata": {
        "id": "b_W40y3JVS-N"
      },
      "execution_count": 43,
      "outputs": []
    },
    {
      "cell_type": "code",
      "source": [
        "loss = train()\n",
        "print(loss)"
      ],
      "metadata": {
        "colab": {
          "base_uri": "https://localhost:8080/"
        },
        "id": "VuRtQBljzIrn",
        "outputId": "a5f14a79-2827-426e-c89d-f9aa5e302bac"
      },
      "execution_count": 26,
      "outputs": [
        {
          "output_type": "stream",
          "name": "stdout",
          "text": [
            "tensor(0.4555, device='cuda:0',\n",
            "       grad_fn=<BinaryCrossEntropyWithLogitsBackward0>)\n"
          ]
        }
      ]
    },
    {
      "cell_type": "code",
      "source": [
        "@torch.no_grad()\n",
        "def test(data):\n",
        "    model.eval()\n",
        "    z = model.encode(data.x, data.edge_index)\n",
        "    out = model.decode(z, data.edge_label_index).view(-1).sigmoid()\n",
        "    return roc_auc_score(data.edge_label.cpu().numpy(), out.cpu().numpy())"
      ],
      "metadata": {
        "id": "9gMe-LLtbIqm"
      },
      "execution_count": 27,
      "outputs": []
    },
    {
      "cell_type": "code",
      "source": [
        "@torch.no_grad()\n",
        "def test(data):\n",
        "    model.eval()\n",
        "    # test edge_index used to encode\n",
        "    #x = torch.eye(100, dtype=torch.float, device=device)\n",
        "    z = model.encode(data.x, data.edge_index)\n",
        "\n",
        "    # test edge_label_index are not in the edge_index list\n",
        "    out = model.decode(z, data.edge_label_index).view(-1).sigmoid()\n",
        "\n",
        "    # Evaluate score\n",
        "    out_cpu = out.cpu().numpy()\n",
        "    label_cpu = data.edge_label.cpu().numpy()\n",
        "    # Shuffle\n",
        "    shuffle = torch.randperm(out_cpu.shape[0])\n",
        "    out_cpu = out_cpu[shuffle]\n",
        "    label_cpu = label_cpu[shuffle]\n",
        "    auc = roc_auc_score(label_cpu, out_cpu)\n",
        "    return auc"
      ],
      "metadata": {
        "id": "WaXWtdMhuz3F"
      },
      "execution_count": null,
      "outputs": []
    },
    {
      "cell_type": "code",
      "source": [
        "@torch.no_grad()\n",
        "def testOP(data):\n",
        "    model.eval()\n",
        "    # test edge_index used to encode\n",
        "    z = model.encode(data.x, data.edge_index)\n",
        "\n",
        "    # test edge_label_index are not in the edge_index list\n",
        "    out = model.decode(z, data.edge_label_index).view(-1).sigmoid()\n",
        "\n",
        "    # Evaluate score\n",
        "    out_cpu = out.cpu().numpy()\n",
        "    label_cpu = data.edge_label.cpu().numpy()\n",
        "    # Shuffle\n",
        "    shuffle = torch.randperm(out_cpu.shape[0])\n",
        "    out_cpu = out_cpu[shuffle]\n",
        "    label_cpu = label_cpu[shuffle]\n",
        "    auc = roc_auc_score(label_cpu, out_cpu)\n",
        "    return out_cpu, label_cpu, auc"
      ],
      "metadata": {
        "id": "G5T1-eFAcMbL"
      },
      "execution_count": null,
      "outputs": []
    },
    {
      "cell_type": "code",
      "source": [
        "out_cpu, label_cpu, auc = testOP(test_data)\n",
        "plt.hist(out_cpu[label_cpu == 1], bins=50, label='Positive', alpha=0.5)\n",
        "plt.hist(out_cpu[label_cpu == 0], bins=50, label='Negative', alpha=0.5)\n",
        "plt.legend()\n",
        "print(f\"AUC = {auc}\")"
      ],
      "metadata": {
        "colab": {
          "base_uri": "https://localhost:8080/",
          "height": 447
        },
        "id": "T-ap5Yo9cU8Y",
        "outputId": "c2b48cfa-3995-4793-ef52-d61ffb8f811a"
      },
      "execution_count": null,
      "outputs": [
        {
          "output_type": "stream",
          "name": "stdout",
          "text": [
            "AUC = 0.9220427106999989\n"
          ]
        },
        {
          "output_type": "display_data",
          "data": {
            "text/plain": [
              "<Figure size 640x480 with 1 Axes>"
            ],
            "image/png": "[encoded data removed]"
          },
          "metadata": {}
        }
      ]
    },
    {
      "cell_type": "code",
      "source": [
        "print(f\"test_data.edge_index.shape = {test_data.edge_index.shape}\")\n",
        "test_data.edge_index"
      ],
      "metadata": {
        "colab": {
          "base_uri": "https://localhost:8080/"
        },
        "id": "7LUDkBX5YjEw",
        "outputId": "08acc5f8-1640-43d6-fc77-cef293e7536b"
      },
      "execution_count": 20,
      "outputs": [
        {
          "output_type": "stream",
          "name": "stdout",
          "text": [
            "test_data.edge_index.shape = torch.Size([2, 79784])\n"
          ]
        },
        {
          "output_type": "execute_result",
          "data": {
            "text/plain": [
              "tensor([[ 4746,  6705,   422,  ...,  9047, 11372, 12326],\n",
              "        [ 5819, 17601,  3747,  ...,  5809,  5029,   370]], device='cuda:0')"
            ]
          },
          "metadata": {},
          "execution_count": 20
        }
      ]
    },
    {
      "cell_type": "code",
      "source": [
        "pair = torch.tensor([402, 1408])\n",
        "torch.sum((test_data.edge_index.cpu() == pair.view(2, 1)).all(dim=0))"
      ],
      "metadata": {
        "colab": {
          "base_uri": "https://localhost:8080/"
        },
        "id": "Jfs2Dx03YuEg",
        "outputId": "180649e5-e9b1-44e1-cceb-28cd04dc1b10"
      },
      "execution_count": null,
      "outputs": [
        {
          "output_type": "execute_result",
          "data": {
            "text/plain": [
              "tensor(0)"
            ]
          },
          "metadata": {},
          "execution_count": 30
        }
      ]
    },
    {
      "cell_type": "code",
      "source": [
        "test_data.edge_label_index"
      ],
      "metadata": {
        "colab": {
          "base_uri": "https://localhost:8080/"
        },
        "id": "aTv8I7qpYlWQ",
        "outputId": "f93a2764-ba2e-4da8-c3a7-3ad76248a2a0"
      },
      "execution_count": null,
      "outputs": [
        {
          "output_type": "execute_result",
          "data": {
            "text/plain": [
              "tensor([[1090, 1111,  513,  ...,  402, 1958, 1408],\n",
              "        [2367, 1119,  657,  ...,  337,  569,    8]], device='cuda:0')"
            ]
          },
          "metadata": {},
          "execution_count": 19
        }
      ]
    },
    {
      "cell_type": "code",
      "source": [
        "# Problem: even the test data has [1, 1, 1, ..., 0, 0, 0]\n",
        "test_data.edge_label"
      ],
      "metadata": {
        "colab": {
          "base_uri": "https://localhost:8080/"
        },
        "id": "sC3LEgqnNo_D",
        "outputId": "fcfe7c4e-add9-4f05-ede1-92e6e292fd05"
      },
      "execution_count": null,
      "outputs": [
        {
          "output_type": "execute_result",
          "data": {
            "text/plain": [
              "tensor([1., 1., 1.,  ..., 0., 0., 0.], device='cuda:0')"
            ]
          },
          "metadata": {},
          "execution_count": 122
        }
      ]
    },
    {
      "cell_type": "code",
      "source": [
        "val_history = []\n",
        "test_history = []\n",
        "loss_history = []\n",
        "\n",
        "best_val_auc = final_test_auc = 0\n",
        "for epoch in range(1, 101):\n",
        "    loss = train()\n",
        "\n",
        "    val_auc = test(val_data)\n",
        "    test_auc = test(test_data)\n",
        "\n",
        "    val_history.append(val_auc)\n",
        "    test_history.append(test_auc)\n",
        "    loss_history.append(loss.cpu().detach().numpy())\n",
        "\n",
        "    if val_auc > best_val_auc:\n",
        "        best_val_auc = val_auc\n",
        "        final_test_auc = test_auc\n",
        "\n",
        "    print(f'Epoch: {epoch:03d}, Loss: {loss:.4f}, Val: {val_auc:.4f}, '\n",
        "          f'Test: {test_auc:.4f}')\n",
        "\n",
        "print(f'Final Test: {final_test_auc:.4f}')\n",
        "\n",
        "z = model.encode(test_data.x, test_data.edge_index)\n",
        "final_edge_index = model.decode_all(z)"
      ],
      "metadata": {
        "colab": {
          "base_uri": "https://localhost:8080/"
        },
        "id": "T36erWY1u2Ct",
        "outputId": "c8dbe36e-fa78-406e-ba4f-90ab0fad2fd4"
      },
      "execution_count": 45,
      "outputs": [
        {
          "output_type": "stream",
          "name": "stdout",
          "text": [
            "Epoch: 001, Loss: 0.6928, Val: 0.8824, Test: 0.8886\n",
            "Epoch: 002, Loss: 0.6675, Val: 0.8806, Test: 0.8870\n",
            "Epoch: 003, Loss: 0.6943, Val: 0.8866, Test: 0.8914\n",
            "Epoch: 004, Loss: 0.6541, Val: 0.8882, Test: 0.8905\n",
            "Epoch: 005, Loss: 0.6647, Val: 0.8788, Test: 0.8790\n",
            "Epoch: 006, Loss: 0.6688, Val: 0.8669, Test: 0.8658\n",
            "Epoch: 007, Loss: 0.6652, Val: 0.8603, Test: 0.8588\n",
            "Epoch: 008, Loss: 0.6542, Val: 0.8596, Test: 0.8583\n",
            "Epoch: 009, Loss: 0.6391, Val: 0.8601, Test: 0.8590\n",
            "Epoch: 010, Loss: 0.6356, Val: 0.8561, Test: 0.8546\n",
            "Epoch: 011, Loss: 0.6439, Val: 0.8450, Test: 0.8419\n",
            "Epoch: 012, Loss: 0.6336, Val: 0.8286, Test: 0.8231\n",
            "Epoch: 013, Loss: 0.6238, Val: 0.8159, Test: 0.8082\n",
            "Epoch: 014, Loss: 0.6246, Val: 0.8204, Test: 0.8128\n",
            "Epoch: 015, Loss: 0.6250, Val: 0.8334, Test: 0.8264\n",
            "Epoch: 016, Loss: 0.6217, Val: 0.8425, Test: 0.8354\n",
            "Epoch: 017, Loss: 0.6142, Val: 0.8495, Test: 0.8423\n",
            "Epoch: 018, Loss: 0.6069, Val: 0.8596, Test: 0.8524\n",
            "Epoch: 019, Loss: 0.6026, Val: 0.8769, Test: 0.8706\n",
            "Epoch: 020, Loss: 0.5981, Val: 0.8972, Test: 0.8937\n",
            "Epoch: 021, Loss: 0.5887, Val: 0.9051, Test: 0.9049\n",
            "Epoch: 022, Loss: 0.5750, Val: 0.8909, Test: 0.8934\n",
            "Epoch: 023, Loss: 0.5674, Val: 0.8688, Test: 0.8707\n",
            "Epoch: 024, Loss: 0.5624, Val: 0.8584, Test: 0.8585\n",
            "Epoch: 025, Loss: 0.5509, Val: 0.8484, Test: 0.8481\n",
            "Epoch: 026, Loss: 0.5454, Val: 0.8416, Test: 0.8400\n",
            "Epoch: 027, Loss: 0.5565, Val: 0.8447, Test: 0.8435\n",
            "Epoch: 028, Loss: 0.5492, Val: 0.8528, Test: 0.8507\n",
            "Epoch: 029, Loss: 0.5474, Val: 0.8596, Test: 0.8561\n",
            "Epoch: 030, Loss: 0.5474, Val: 0.8674, Test: 0.8636\n",
            "Epoch: 031, Loss: 0.5409, Val: 0.8771, Test: 0.8732\n",
            "Epoch: 032, Loss: 0.5338, Val: 0.8868, Test: 0.8824\n",
            "Epoch: 033, Loss: 0.5289, Val: 0.8944, Test: 0.8900\n",
            "Epoch: 034, Loss: 0.5271, Val: 0.9006, Test: 0.8965\n",
            "Epoch: 035, Loss: 0.5238, Val: 0.9039, Test: 0.9007\n",
            "Epoch: 036, Loss: 0.5191, Val: 0.9048, Test: 0.9022\n",
            "Epoch: 037, Loss: 0.5166, Val: 0.9062, Test: 0.9031\n",
            "Epoch: 038, Loss: 0.5139, Val: 0.9087, Test: 0.9045\n",
            "Epoch: 039, Loss: 0.5084, Val: 0.9105, Test: 0.9049\n",
            "Epoch: 040, Loss: 0.5019, Val: 0.9115, Test: 0.9053\n",
            "Epoch: 041, Loss: 0.4992, Val: 0.9126, Test: 0.9067\n",
            "Epoch: 042, Loss: 0.4969, Val: 0.9140, Test: 0.9087\n",
            "Epoch: 043, Loss: 0.4931, Val: 0.9145, Test: 0.9096\n",
            "Epoch: 044, Loss: 0.4888, Val: 0.9138, Test: 0.9090\n",
            "Epoch: 045, Loss: 0.4888, Val: 0.9117, Test: 0.9072\n",
            "Epoch: 046, Loss: 0.4874, Val: 0.9103, Test: 0.9056\n",
            "Epoch: 047, Loss: 0.4857, Val: 0.9106, Test: 0.9057\n",
            "Epoch: 048, Loss: 0.4867, Val: 0.9111, Test: 0.9061\n",
            "Epoch: 049, Loss: 0.4876, Val: 0.9116, Test: 0.9071\n",
            "Epoch: 050, Loss: 0.4874, Val: 0.9120, Test: 0.9081\n",
            "Epoch: 051, Loss: 0.4845, Val: 0.9134, Test: 0.9096\n",
            "Epoch: 052, Loss: 0.4839, Val: 0.9161, Test: 0.9120\n",
            "Epoch: 053, Loss: 0.4825, Val: 0.9184, Test: 0.9140\n",
            "Epoch: 054, Loss: 0.4811, Val: 0.9199, Test: 0.9154\n",
            "Epoch: 055, Loss: 0.4831, Val: 0.9209, Test: 0.9167\n",
            "Epoch: 056, Loss: 0.4807, Val: 0.9213, Test: 0.9178\n",
            "Epoch: 057, Loss: 0.4796, Val: 0.9224, Test: 0.9192\n",
            "Epoch: 058, Loss: 0.4788, Val: 0.9237, Test: 0.9204\n",
            "Epoch: 059, Loss: 0.4788, Val: 0.9244, Test: 0.9210\n",
            "Epoch: 060, Loss: 0.4791, Val: 0.9242, Test: 0.9209\n",
            "Epoch: 061, Loss: 0.4801, Val: 0.9236, Test: 0.9207\n",
            "Epoch: 062, Loss: 0.4757, Val: 0.9234, Test: 0.9206\n",
            "Epoch: 063, Loss: 0.4757, Val: 0.9251, Test: 0.9226\n",
            "Epoch: 064, Loss: 0.4758, Val: 0.9276, Test: 0.9251\n",
            "Epoch: 065, Loss: 0.4731, Val: 0.9289, Test: 0.9265\n",
            "Epoch: 066, Loss: 0.4732, Val: 0.9288, Test: 0.9266\n",
            "Epoch: 067, Loss: 0.4707, Val: 0.9280, Test: 0.9263\n",
            "Epoch: 068, Loss: 0.4699, Val: 0.9293, Test: 0.9279\n",
            "Epoch: 069, Loss: 0.4680, Val: 0.9322, Test: 0.9309\n",
            "Epoch: 070, Loss: 0.4680, Val: 0.9341, Test: 0.9331\n",
            "Epoch: 071, Loss: 0.4661, Val: 0.9344, Test: 0.9339\n",
            "Epoch: 072, Loss: 0.4641, Val: 0.9342, Test: 0.9342\n",
            "Epoch: 073, Loss: 0.4654, Val: 0.9371, Test: 0.9373\n",
            "Epoch: 074, Loss: 0.4620, Val: 0.9405, Test: 0.9407\n",
            "Epoch: 075, Loss: 0.4611, Val: 0.9410, Test: 0.9417\n",
            "Epoch: 076, Loss: 0.4602, Val: 0.9399, Test: 0.9411\n",
            "Epoch: 077, Loss: 0.4577, Val: 0.9406, Test: 0.9420\n",
            "Epoch: 078, Loss: 0.4546, Val: 0.9419, Test: 0.9433\n",
            "Epoch: 079, Loss: 0.4555, Val: 0.9412, Test: 0.9428\n",
            "Epoch: 080, Loss: 0.4587, Val: 0.9395, Test: 0.9419\n",
            "Epoch: 081, Loss: 0.4566, Val: 0.9391, Test: 0.9416\n",
            "Epoch: 082, Loss: 0.4560, Val: 0.9400, Test: 0.9420\n",
            "Epoch: 083, Loss: 0.4551, Val: 0.9403, Test: 0.9421\n",
            "Epoch: 084, Loss: 0.4532, Val: 0.9409, Test: 0.9423\n",
            "Epoch: 085, Loss: 0.4547, Val: 0.9423, Test: 0.9434\n",
            "Epoch: 086, Loss: 0.4543, Val: 0.9431, Test: 0.9441\n",
            "Epoch: 087, Loss: 0.4553, Val: 0.9430, Test: 0.9437\n",
            "Epoch: 088, Loss: 0.4531, Val: 0.9438, Test: 0.9440\n",
            "Epoch: 089, Loss: 0.4517, Val: 0.9454, Test: 0.9451\n",
            "Epoch: 090, Loss: 0.4526, Val: 0.9456, Test: 0.9453\n",
            "Epoch: 091, Loss: 0.4524, Val: 0.9451, Test: 0.9450\n",
            "Epoch: 092, Loss: 0.4510, Val: 0.9458, Test: 0.9456\n",
            "Epoch: 093, Loss: 0.4514, Val: 0.9469, Test: 0.9463\n",
            "Epoch: 094, Loss: 0.4492, Val: 0.9471, Test: 0.9465\n",
            "Epoch: 095, Loss: 0.4511, Val: 0.9470, Test: 0.9465\n",
            "Epoch: 096, Loss: 0.4477, Val: 0.9472, Test: 0.9470\n",
            "Epoch: 097, Loss: 0.4516, Val: 0.9492, Test: 0.9488\n",
            "Epoch: 098, Loss: 0.4493, Val: 0.9493, Test: 0.9488\n",
            "Epoch: 099, Loss: 0.4511, Val: 0.9485, Test: 0.9480\n",
            "Epoch: 100, Loss: 0.4487, Val: 0.9489, Test: 0.9484\n",
            "Final Test: 0.9488\n"
          ]
        }
      ]
    },
    {
      "cell_type": "code",
      "source": [
        "plt.plot(val_history, label='Validation')\n",
        "plt.plot(test_history, label='Test')\n",
        "plt.legend()"
      ],
      "metadata": {
        "id": "7ERg8VEsu4Zf",
        "colab": {
          "base_uri": "https://localhost:8080/",
          "height": 447
        },
        "outputId": "e054bfa2-bbb0-4926-e8d3-5f41cf63b8f7"
      },
      "execution_count": 46,
      "outputs": [
        {
          "output_type": "execute_result",
          "data": {
            "text/plain": [
              "<matplotlib.legend.Legend at 0x788ad1471090>"
            ]
          },
          "metadata": {},
          "execution_count": 46
        },
        {
          "output_type": "display_data",
          "data": {
            "text/plain": [
              "<Figure size 640x480 with 1 Axes>"
            ],
            "image/png": "[encoded data removed]"
          },
          "metadata": {}
        }
      ]
    },
    {
      "cell_type": "code",
      "source": [
        "plt.plot(loss_history)"
      ],
      "metadata": {
        "colab": {
          "base_uri": "https://localhost:8080/",
          "height": 447
        },
        "id": "aHKroiuUSyc2",
        "outputId": "765811ea-c2ba-49f1-fe5d-485af951bb40"
      },
      "execution_count": 47,
      "outputs": [
        {
          "output_type": "execute_result",
          "data": {
            "text/plain": [
              "[<matplotlib.lines.Line2D at 0x788ad15506d0>]"
            ]
          },
          "metadata": {},
          "execution_count": 47
        },
        {
          "output_type": "display_data",
          "data": {
            "text/plain": [
              "<Figure size 640x480 with 1 Axes>"
            ],
            "image/png": "[encoded data removed]"
          },
          "metadata": {}
        }
      ]
    },
    {
      "cell_type": "markdown",
      "source": [
        "## Create a custom Data"
      ],
      "metadata": {
        "id": "hr1a4c7Z6iqr"
      }
    },
    {
      "cell_type": "code",
      "source": [
        "import os.path as osp\n",
        "import torch\n",
        "from torch_geometric.data import Dataset, Data\n",
        "\n",
        "g = nx.barabasi_albert_graph(100, 3)\n",
        "dataset = CustomGraphDataset(\"./data/Custom\", *customGraphData(g))\n",
        "\n",
        "transform = T.Compose([\n",
        "    T.NormalizeFeatures(),\n",
        "    T.ToDevice(device),\n",
        "    T.RandomLinkSplit(num_val=0.05, num_test=0.1, is_undirected=True,\n",
        "                     add_negative_train_samples=False),\n",
        "])\n",
        "\n",
        "# Apply transformations\n",
        "dataset.transform = transform\n",
        "train_data, val_data, test_data = dataset[0]\n",
        "\n",
        "# Now the training should be compatible"
      ],
      "metadata": {
        "id": "I9qvMwirjIVS"
      },
      "execution_count": 64,
      "outputs": []
    },
    {
      "cell_type": "code",
      "source": [],
      "metadata": {
        "id": "vnXPZjrF7rxo"
      },
      "execution_count": null,
      "outputs": []
    }
  ]
}