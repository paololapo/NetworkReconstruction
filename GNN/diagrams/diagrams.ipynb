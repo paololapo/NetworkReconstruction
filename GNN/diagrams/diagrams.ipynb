{
 "cells": [
  {
   "cell_type": "code",
   "execution_count": 1,
   "metadata": {},
   "outputs": [
    {
     "data": {
      "text/plain": [
       "'gcn_trainer_architecture_vertical.png'"
      ]
     },
     "execution_count": 1,
     "metadata": {},
     "output_type": "execute_result"
    }
   ],
   "source": [
    "import graphviz\n",
    "\n",
    "dot = graphviz.Digraph(comment='GCN Trainer Architecture', format='png')\n",
    "\n",
    "# Global properties\n",
    "dot.attr(rankdir='TB', size='3,8')  # Orientamento verticale\n",
    "dot.attr('node', shape='box', style='filled', fontsize='10', fontcolor='black', height='0.5')\n",
    "\n",
    "# Colors\n",
    "input_color = '#B2EBF2'      # Celeste chiaro\n",
    "encoder_color = '#FFE0B2'    # Arancione chiaro\n",
    "latent_color = '#FFCCBC'      # Arancione scuro\n",
    "decoder_color = '#C8E6C9'     # Verde chiaro\n",
    "loss_color = '#FFAB91'        # Arancione brillante\n",
    "metrics_color = '#D1C4E9'     # Viola chiaro\n",
    "\n",
    "# Input Data\n",
    "dot.node('A', 'Input Data\\n(Features + Edge Index)', fillcolor=input_color)\n",
    "\n",
    "# Encoder\n",
    "dot.node('B', 'Encoder Layer 1\\n(GCNConv + BatchNorm + ReLU)', fillcolor=encoder_color)\n",
    "dot.node('C', 'Encoder Layer 2\\n(GCNConv + BatchNorm)', fillcolor=encoder_color)\n",
    "dot.node('D', 'Latent Representations\\n(z)', shape='ellipse', fillcolor=latent_color)\n",
    "\n",
    "# Decoder\n",
    "dot.node('E', 'Decoder\\n(Dot Product)', fillcolor=decoder_color)\n",
    "\n",
    "# Loss Calculation\n",
    "dot.node('F', 'Loss Calculation\\n(Cross Entropy Loss)', fillcolor=loss_color)\n",
    "\n",
    "# Performance Metrics\n",
    "dot.node('G', 'Performance Metrics\\n(Accuracy + AUC)', fillcolor=metrics_color)\n",
    "\n",
    "# Edges\n",
    "dot.edge('A', 'B', label='Input Data')\n",
    "dot.edge('B', 'C', label='Output')\n",
    "dot.edge('C', 'D', label='Latent Output')\n",
    "dot.edge('D', 'E', label='Decode')\n",
    "dot.edge('E', 'F', label='Compute Loss')\n",
    "dot.edge('F', 'G', label='Evaluate Performance')\n",
    "\n",
    "# Title\n",
    "dot.attr(label='GCN Trainer Architecture', fontsize='14', fontcolor='black')\n",
    "dot.attr(labeljust='c', labelloc='t')\n",
    "\n",
    "# Render the graph\n",
    "dot.render('gcn_trainer_architecture_vertical', cleanup=True)\n"
   ]
  }
 ],
 "metadata": {
  "kernelspec": {
   "display_name": "Python 3",
   "language": "python",
   "name": "python3"
  },
  "language_info": {
   "codemirror_mode": {
    "name": "ipython",
    "version": 3
   },
   "file_extension": ".py",
   "mimetype": "text/x-python",
   "name": "python",
   "nbconvert_exporter": "python",
   "pygments_lexer": "ipython3",
   "version": "3.10.12"
  }
 },
 "nbformat": 4,
 "nbformat_minor": 2
}
